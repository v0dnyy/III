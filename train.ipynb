{
 "cells": [
  {
   "cell_type": "code",
   "execution_count": 1,
   "metadata": {},
   "outputs": [],
   "source": [
    "from ultralytics import YOLO"
   ]
  },
  {
   "cell_type": "code",
   "execution_count": 3,
   "metadata": {},
   "outputs": [
    {
     "name": "stdout",
     "output_type": "stream",
     "text": [
      "New https://pypi.org/project/ultralytics/8.3.17 available  Update with 'pip install -U ultralytics'\n",
      "Ultralytics 8.3.15  Python-3.12.0 torch-2.4.1+cu124 CUDA:0 (NVIDIA GeForce RTX 4070 Laptop GPU, 8188MiB)\n",
      "\u001b[34m\u001b[1mengine\\trainer: \u001b[0mtask=detect, mode=train, model=yolo11s.pt, data=C:\\Users\\vodnyy\\Desktop\\work_III\\datasets\\datasets\\data.yaml, epochs=100, time=None, patience=35, batch=-1, imgsz=640, save=True, save_period=-1, cache=disk, device=None, workers=8, project=None, name=train2, exist_ok=False, pretrained=True, optimizer=auto, verbose=True, seed=0, deterministic=True, single_cls=False, rect=False, cos_lr=False, close_mosaic=10, resume=False, amp=True, fraction=1.0, profile=False, freeze=None, multi_scale=False, overlap_mask=True, mask_ratio=4, dropout=0.5, val=True, split=val, save_json=False, save_hybrid=False, conf=None, iou=0.7, max_det=300, half=False, dnn=False, plots=True, source=None, vid_stride=1, stream_buffer=False, visualize=False, augment=True, agnostic_nms=False, classes=None, retina_masks=False, embed=None, show=False, save_frames=False, save_txt=False, save_conf=False, save_crop=False, show_labels=True, show_conf=True, show_boxes=True, line_width=None, format=torchscript, keras=False, optimize=False, int8=False, dynamic=False, simplify=True, opset=None, workspace=4, nms=False, lr0=0.01, lrf=0.01, momentum=0.937, weight_decay=0.0005, warmup_epochs=3.0, warmup_momentum=0.8, warmup_bias_lr=0.1, box=7.5, cls=0.5, dfl=1.5, pose=12.0, kobj=1.0, label_smoothing=0.0, nbs=64, hsv_h=0.015, hsv_s=0.7, hsv_v=0.4, degrees=0.0, translate=0.1, scale=0.5, shear=0.0, perspective=0.0, flipud=0.0, fliplr=0.5, bgr=0.0, mosaic=1.0, mixup=0.0, copy_paste=0.0, copy_paste_mode=flip, auto_augment=randaugment, erasing=0.4, crop_fraction=1.0, cfg=None, tracker=botsort.yaml, save_dir=runs\\detect\\train2\n",
      "Overriding model.yaml nc=80 with nc=5\n",
      "\n",
      "                   from  n    params  module                                       arguments                     \n",
      "  0                  -1  1       928  ultralytics.nn.modules.conv.Conv             [3, 32, 3, 2]                 \n",
      "  1                  -1  1     18560  ultralytics.nn.modules.conv.Conv             [32, 64, 3, 2]                \n",
      "  2                  -1  1     26080  ultralytics.nn.modules.block.C3k2            [64, 128, 1, False, 0.25]     \n",
      "  3                  -1  1    147712  ultralytics.nn.modules.conv.Conv             [128, 128, 3, 2]              \n",
      "  4                  -1  1    103360  ultralytics.nn.modules.block.C3k2            [128, 256, 1, False, 0.25]    \n",
      "  5                  -1  1    590336  ultralytics.nn.modules.conv.Conv             [256, 256, 3, 2]              \n",
      "  6                  -1  1    346112  ultralytics.nn.modules.block.C3k2            [256, 256, 1, True]           \n",
      "  7                  -1  1   1180672  ultralytics.nn.modules.conv.Conv             [256, 512, 3, 2]              \n",
      "  8                  -1  1   1380352  ultralytics.nn.modules.block.C3k2            [512, 512, 1, True]           \n",
      "  9                  -1  1    656896  ultralytics.nn.modules.block.SPPF            [512, 512, 5]                 \n",
      " 10                  -1  1    990976  ultralytics.nn.modules.block.C2PSA           [512, 512, 1]                 \n",
      " 11                  -1  1         0  torch.nn.modules.upsampling.Upsample         [None, 2, 'nearest']          \n",
      " 12             [-1, 6]  1         0  ultralytics.nn.modules.conv.Concat           [1]                           \n",
      " 13                  -1  1    443776  ultralytics.nn.modules.block.C3k2            [768, 256, 1, False]          \n",
      " 14                  -1  1         0  torch.nn.modules.upsampling.Upsample         [None, 2, 'nearest']          \n",
      " 15             [-1, 4]  1         0  ultralytics.nn.modules.conv.Concat           [1]                           \n",
      " 16                  -1  1    127680  ultralytics.nn.modules.block.C3k2            [512, 128, 1, False]          \n",
      " 17                  -1  1    147712  ultralytics.nn.modules.conv.Conv             [128, 128, 3, 2]              \n",
      " 18            [-1, 13]  1         0  ultralytics.nn.modules.conv.Concat           [1]                           \n",
      " 19                  -1  1    345472  ultralytics.nn.modules.block.C3k2            [384, 256, 1, False]          \n",
      " 20                  -1  1    590336  ultralytics.nn.modules.conv.Conv             [256, 256, 3, 2]              \n",
      " 21            [-1, 10]  1         0  ultralytics.nn.modules.conv.Concat           [1]                           \n",
      " 22                  -1  1   1511424  ultralytics.nn.modules.block.C3k2            [768, 512, 1, True]           \n",
      " 23        [16, 19, 22]  1    821343  ultralytics.nn.modules.head.Detect           [5, [128, 256, 512]]          \n",
      "YOLO11s summary: 319 layers, 9,429,727 parameters, 9,429,711 gradients, 21.6 GFLOPs\n",
      "\n",
      "Transferred 493/499 items from pretrained weights\n",
      "Freezing layer 'model.23.dfl.conv.weight'\n",
      "\u001b[34m\u001b[1mAMP: \u001b[0mrunning Automatic Mixed Precision (AMP) checks with YOLO11n...\n",
      "\u001b[34m\u001b[1mAMP: \u001b[0mchecks passed \n",
      "\u001b[34m\u001b[1mAutoBatch: \u001b[0mComputing optimal batch size for imgsz=640 at 60.0% CUDA memory utilization.\n",
      "\u001b[34m\u001b[1mAutoBatch: \u001b[0mCUDA:0 (NVIDIA GeForce RTX 4070 Laptop GPU) 8.00G total, 0.25G reserved, 0.17G allocated, 7.58G free\n",
      "      Params      GFLOPs  GPU_mem (GB)  forward (ms) backward (ms)                   input                  output\n",
      "     9429727       21.56         0.453            62         48.77        (1, 3, 640, 640)                    list\n",
      "     9429727       43.11         0.703           106            31        (2, 3, 640, 640)                    list\n",
      "     9429727       86.23         1.200            37         25.01        (4, 3, 640, 640)                    list\n",
      "     9429727       172.5         2.175         52.59         47.47        (8, 3, 640, 640)                    list\n",
      "     9429727       344.9         4.127          91.7          86.5       (16, 3, 640, 640)                    list\n",
      "\u001b[34m\u001b[1mAutoBatch: \u001b[0mUsing batch-size 17 for CUDA:0 4.79G/8.00G (60%) \n"
     ]
    },
    {
     "name": "stderr",
     "output_type": "stream",
     "text": [
      "\u001b[34m\u001b[1mtrain: \u001b[0mScanning C:\\Users\\vodnyy\\Desktop\\work_III\\datasets\\datasets\\train\\labels... 21848 images, 47 backgrounds, 49 corrupt: 100%|██████████| 21897/21897 [00:23<00:00, 915.05it/s]"
     ]
    },
    {
     "name": "stdout",
     "output_type": "stream",
     "text": [
      "\u001b[34m\u001b[1mtrain: \u001b[0mWARNING  C:\\Users\\vodnyy\\Desktop\\work_III\\datasets\\datasets\\train\\images\\207_id_1_d_13_oCltQQhhS_-MsX5Pb-5Tkw_y_2024_jpg.rf.528d85bcffe7a9a190d9968b12664532.jpg: ignoring corrupt image/label: image size (100, 4) <10 pixels\n",
      "\u001b[34m\u001b[1mtrain: \u001b[0mWARNING  C:\\Users\\vodnyy\\Desktop\\work_III\\datasets\\datasets\\train\\images\\219_id_1_d_11_pckE1I5tOUuTicXmAjw5Pw_y_2024_jpg.rf.f65a3349215b9be29cbb1e1d224697e4.jpg: ignoring corrupt image/label: image size (174, 7) <10 pixels\n",
      "\u001b[34m\u001b[1mtrain: \u001b[0mWARNING  C:\\Users\\vodnyy\\Desktop\\work_III\\datasets\\datasets\\train\\images\\226_id_1_d_10_uXi33tzLIinZp96QzimoZw_y_2024_jpg.rf.e94ded1ef3a3e8d43afdd33a5e76a93b.jpg: ignoring corrupt image/label: image size (26, 9) <10 pixels\n",
      "\u001b[34m\u001b[1mtrain: \u001b[0mWARNING  C:\\Users\\vodnyy\\Desktop\\work_III\\datasets\\datasets\\train\\images\\227_id_0_d_11_bMqX4lbAElIF8_Pa73K3TA_y_2024_jpg.rf.8148759c892e1db99dab47413f818fe2.jpg: ignoring corrupt image/label: image size (137, 5) <10 pixels\n",
      "\u001b[34m\u001b[1mtrain: \u001b[0mWARNING  C:\\Users\\vodnyy\\Desktop\\work_III\\datasets\\datasets\\train\\images\\231_id_0_d_9_zgV1DJtrTiOvsEJatj2Cxw_y_2024_jpg.rf.fe09df9506cc93d1785afd57e3ecf22f.jpg: ignoring corrupt image/label: image size (23, 8) <10 pixels\n",
      "\u001b[34m\u001b[1mtrain: \u001b[0mWARNING  C:\\Users\\vodnyy\\Desktop\\work_III\\datasets\\datasets\\train\\images\\233_id_0_d_14_q9BllBF-zjHzVQKH2b-WpQ_y_2024_jpg.rf.facdc9f46a3af8ee85ef40e9e0c3588d.jpg: ignoring corrupt image/label: image size (60, 6) <10 pixels\n",
      "\u001b[34m\u001b[1mtrain: \u001b[0mWARNING  C:\\Users\\vodnyy\\Desktop\\work_III\\datasets\\datasets\\train\\images\\236_id_0_d_12_8fFV_GSWym0fun-uMYZBHw_y_2024_jpg.rf.c9ea1eeee7d42c1c68a25c5c4998c295.jpg: ignoring corrupt image/label: image size (39, 5) <10 pixels\n",
      "\u001b[34m\u001b[1mtrain: \u001b[0mWARNING  C:\\Users\\vodnyy\\Desktop\\work_III\\datasets\\datasets\\train\\images\\239_id_2_d_14_sUQHh6wVNhrRwRvVdtC2vA_y_2024_jpg.rf.0586bdd4656454afe5ef405f37f057d0.jpg: ignoring corrupt image/label: image size (141, 4) <10 pixels\n",
      "\u001b[34m\u001b[1mtrain: \u001b[0mWARNING  C:\\Users\\vodnyy\\Desktop\\work_III\\datasets\\datasets\\train\\images\\239_id_2_d_14_sUQHh6wVNhrRwRvVdtC2vA_y_2024_jpg.rf.b6b2638553247ca2ff857f939ee69c6f.jpg: ignoring corrupt image/label: image size (116, 6) <10 pixels\n",
      "\u001b[34m\u001b[1mtrain: \u001b[0mWARNING  C:\\Users\\vodnyy\\Desktop\\work_III\\datasets\\datasets\\train\\images\\243_id_0_d_6_FpCMnqpUEBtHNSKl_QM4jg_y_2024_jpg.rf.92da756bddeefd074b041bf77bae38a0.jpg: ignoring corrupt image/label: image size (29, 6) <10 pixels\n",
      "\u001b[34m\u001b[1mtrain: \u001b[0mWARNING  C:\\Users\\vodnyy\\Desktop\\work_III\\datasets\\datasets\\train\\images\\244_id_1_d_11_5z2ktfomVNqXzljRKlMyxQ_y_2024_jpg.rf.db9ee5c5bd1ed168d60751d9c58fd6b4.jpg: ignoring corrupt image/label: image size (119, 6) <10 pixels\n",
      "\u001b[34m\u001b[1mtrain: \u001b[0mWARNING  C:\\Users\\vodnyy\\Desktop\\work_III\\datasets\\datasets\\train\\images\\255_id_0_d_11_fW5PDfEGL8cVTI3co-rl1g_y_2024_jpg.rf.d40f2f340badd3aa5a214bc7bb43e3b4.jpg: ignoring corrupt image/label: image size (105, 6) <10 pixels\n",
      "\u001b[34m\u001b[1mtrain: \u001b[0mWARNING  C:\\Users\\vodnyy\\Desktop\\work_III\\datasets\\datasets\\train\\images\\265_id_0_d_11_x4CHbKc1VTwc1ZgDuOBpjA_y_2024_jpg.rf.5f859bea312503fcffe3513d1dfed4e1.jpg: ignoring corrupt image/label: image size (22, 8) <10 pixels\n",
      "\u001b[34m\u001b[1mtrain: \u001b[0mWARNING  C:\\Users\\vodnyy\\Desktop\\work_III\\datasets\\datasets\\train\\images\\272_id_0_d_11_NL2eWDs9PTrwH3PGJCtRqQ_y_2024_jpg.rf.abf0e0a691b7b30db6bf81715d5d6296.jpg: ignoring corrupt image/label: image size (35, 7) <10 pixels\n",
      "\u001b[34m\u001b[1mtrain: \u001b[0mWARNING  C:\\Users\\vodnyy\\Desktop\\work_III\\datasets\\datasets\\train\\images\\273_id_1_d_14_EtyN2vjKVmiZavdhwp-oGQ_y_2024_jpg.rf.8d1e9c58a1fd0eb3688ed7a401aa9566.jpg: ignoring corrupt image/label: image size (21, 9) <10 pixels\n",
      "\u001b[34m\u001b[1mtrain: \u001b[0mWARNING  C:\\Users\\vodnyy\\Desktop\\work_III\\datasets\\datasets\\train\\images\\274_id_1_d_12_oyMg-pepcv-_af9M7ZVaVg_y_2024_jpg.rf.7ad380cddbd5173bf4dbae2cbc40154c.jpg: ignoring corrupt image/label: image size (127, 8) <10 pixels\n",
      "\u001b[34m\u001b[1mtrain: \u001b[0mWARNING  C:\\Users\\vodnyy\\Desktop\\work_III\\datasets\\datasets\\train\\images\\278_id_1_d_14_Chxy3deRFzk7SaGarwn2bA_y_2024_jpg.rf.ab595a7c3d9b273c0143aebbeaf09089.jpg: ignoring corrupt image/label: image size (94, 9) <10 pixels\n",
      "\u001b[34m\u001b[1mtrain: \u001b[0mWARNING  C:\\Users\\vodnyy\\Desktop\\work_III\\datasets\\datasets\\train\\images\\279_id_0_d_9_5xW5JjDgLuX_x8gQ2z174g_y_2024_jpg.rf.2b974696c13908e168c89c7a29c8002d.jpg: ignoring corrupt image/label: image size (166, 7) <10 pixels\n",
      "\u001b[34m\u001b[1mtrain: \u001b[0mWARNING  C:\\Users\\vodnyy\\Desktop\\work_III\\datasets\\datasets\\train\\images\\283_id_0_d_11_sVAXo3EeLl-CDWRNBddgLg_y_2024_jpg.rf.0fcc58942f775e260d73151697382fbc.jpg: ignoring corrupt image/label: image size (121, 7) <10 pixels\n",
      "\u001b[34m\u001b[1mtrain: \u001b[0mWARNING  C:\\Users\\vodnyy\\Desktop\\work_III\\datasets\\datasets\\train\\images\\288_id_1_d_12_EwMDpS-2ozfmtgzj0siHIA_y_2024_jpg.rf.0baa55b22a1e77dbe1c52505145d9312.jpg: ignoring corrupt image/label: image size (109, 8) <10 pixels\n",
      "\u001b[34m\u001b[1mtrain: \u001b[0mWARNING  C:\\Users\\vodnyy\\Desktop\\work_III\\datasets\\datasets\\train\\images\\290_id_1_d_13_jkM6BRg0d8pSVRgoeuhljg_y_2024_jpg.rf.429ea54e7bc739e0e4064ace3a26f5e3.jpg: 1 duplicate labels removed\n",
      "\u001b[34m\u001b[1mtrain: \u001b[0mWARNING  C:\\Users\\vodnyy\\Desktop\\work_III\\datasets\\datasets\\train\\images\\290_id_1_d_13_jkM6BRg0d8pSVRgoeuhljg_y_2024_jpg.rf.877dade02f75786af252239cb29054c8.jpg: 1 duplicate labels removed\n",
      "\u001b[34m\u001b[1mtrain: \u001b[0mWARNING  C:\\Users\\vodnyy\\Desktop\\work_III\\datasets\\datasets\\train\\images\\290_id_1_d_13_jkM6BRg0d8pSVRgoeuhljg_y_2024_jpg.rf.f209b7064588d752e6acb0b89d520172.jpg: 1 duplicate labels removed\n",
      "\u001b[34m\u001b[1mtrain: \u001b[0mWARNING  C:\\Users\\vodnyy\\Desktop\\work_III\\datasets\\datasets\\train\\images\\292_id_1_d_13_3MhW-D3KJAFCT63DlSXCtg_y_2024_jpg.rf.9f287c8df8a2141b3e06dda4019f0dac.jpg: ignoring corrupt image/label: image size (85, 7) <10 pixels\n",
      "\u001b[34m\u001b[1mtrain: \u001b[0mWARNING  C:\\Users\\vodnyy\\Desktop\\work_III\\datasets\\datasets\\train\\images\\295_id_1_d_15_s7E7cJ-deoaMTwlQLfhJUA_y_2024_jpg.rf.b76c9277e26756353a7eb58a5715e29a.jpg: ignoring corrupt image/label: image size (25, 9) <10 pixels\n",
      "\u001b[34m\u001b[1mtrain: \u001b[0mWARNING  C:\\Users\\vodnyy\\Desktop\\work_III\\datasets\\datasets\\train\\images\\296_id_1_d_13_VqQj44mwuSkOsZEuMxq40Q_y_2024_jpg.rf.902caa9b16f16b0692b27009d56c169b.jpg: ignoring corrupt image/label: image size (93, 3) <10 pixels\n",
      "\u001b[34m\u001b[1mtrain: \u001b[0mWARNING  C:\\Users\\vodnyy\\Desktop\\work_III\\datasets\\datasets\\train\\images\\298_id_0_d_11_VwE2xekgj2rxCIkcIfUMdg_y_2024_jpg.rf.196ffd3104d7deb584138e582af24471.jpg: ignoring corrupt image/label: image size (146, 8) <10 pixels\n",
      "\u001b[34m\u001b[1mtrain: \u001b[0mWARNING  C:\\Users\\vodnyy\\Desktop\\work_III\\datasets\\datasets\\train\\images\\299_id_0_d_12_msO0LXUhpEiAxgexVBGCCQ_y_2024_jpg.rf.fa82020bdcb684c85a6d8e7ccbc934b0.jpg: ignoring corrupt image/label: image size (138, 6) <10 pixels\n",
      "\u001b[34m\u001b[1mtrain: \u001b[0mWARNING  C:\\Users\\vodnyy\\Desktop\\work_III\\datasets\\datasets\\train\\images\\299_id_1_d_15_DLX9HgczVDYUPrHw5Hb3sA_y_2024_jpg.rf.de74939880299ac7c4dec0513d800bdd.jpg: ignoring corrupt image/label: image size (126, 5) <10 pixels\n",
      "\u001b[34m\u001b[1mtrain: \u001b[0mWARNING  C:\\Users\\vodnyy\\Desktop\\work_III\\datasets\\datasets\\train\\images\\2_jpg.rf.6f58b6015ab914c957325cecd252268c.jpg: 6 duplicate labels removed\n",
      "\u001b[34m\u001b[1mtrain: \u001b[0mWARNING  C:\\Users\\vodnyy\\Desktop\\work_III\\datasets\\datasets\\train\\images\\2_jpg.rf.dc3e1944d3bc56835012765738dff7a4.jpg: 5 duplicate labels removed\n",
      "\u001b[34m\u001b[1mtrain: \u001b[0mWARNING  C:\\Users\\vodnyy\\Desktop\\work_III\\datasets\\datasets\\train\\images\\302_id_1_d_13_VqQj44mwuSkOsZEuMxq40Q_y_2024_jpg.rf.665ec43786dc6bf6b7a95a6abf1cbbf0.jpg: ignoring corrupt image/label: image size (29, 9) <10 pixels\n",
      "\u001b[34m\u001b[1mtrain: \u001b[0mWARNING  C:\\Users\\vodnyy\\Desktop\\work_III\\datasets\\datasets\\train\\images\\304_id_1_d_14_1a8SS1yOUJPy1QwF3DwM6Q_y_2024_jpg.rf.c54e1ca9d6dd75b7e1bc1a41e38b81ad.jpg: ignoring corrupt image/label: image size (74, 4) <10 pixels\n",
      "\u001b[34m\u001b[1mtrain: \u001b[0mWARNING  C:\\Users\\vodnyy\\Desktop\\work_III\\datasets\\datasets\\train\\images\\305_id_1_d_14_VwE2xekgj2rxCIkcIfUMdg_y_2024_jpg.rf.c3c3bc4f6a2e8664cf8075faac61b99c.jpg: ignoring corrupt image/label: image size (52, 7) <10 pixels\n",
      "\u001b[34m\u001b[1mtrain: \u001b[0mWARNING  C:\\Users\\vodnyy\\Desktop\\work_III\\datasets\\datasets\\train\\images\\305_id_1_d_14_VwE2xekgj2rxCIkcIfUMdg_y_2024_jpg.rf.e6ea8e86eea67bd93db726d7edcf473d.jpg: ignoring corrupt image/label: image size (105, 7) <10 pixels\n",
      "\u001b[34m\u001b[1mtrain: \u001b[0mWARNING  C:\\Users\\vodnyy\\Desktop\\work_III\\datasets\\datasets\\train\\images\\310_id_0_d_10_7cuiQ6YOtRzrMapDVLYeKw_y_2024_jpg.rf.c505e6c9ea0ec284946fb08905542885.jpg: ignoring corrupt image/label: image size (143, 9) <10 pixels\n",
      "\u001b[34m\u001b[1mtrain: \u001b[0mWARNING  C:\\Users\\vodnyy\\Desktop\\work_III\\datasets\\datasets\\train\\images\\322_id_0_d_10_iINtJNQIS1jMGl7SnBEKIg_y_2024_jpg.rf.61ae80051bd9d3c2d122ba03be87a495.jpg: ignoring corrupt image/label: image size (142, 7) <10 pixels\n",
      "\u001b[34m\u001b[1mtrain: \u001b[0mWARNING  C:\\Users\\vodnyy\\Desktop\\work_III\\datasets\\datasets\\train\\images\\323_id_0_d_9_saLyegZ0jvy5YV8G4KQ39w_y_2024_jpg.rf.944b38b1d4385a46685c108b9510639c.jpg: ignoring corrupt image/label: image size (64, 7) <10 pixels\n",
      "\u001b[34m\u001b[1mtrain: \u001b[0mWARNING  C:\\Users\\vodnyy\\Desktop\\work_III\\datasets\\datasets\\train\\images\\324_id_1_d_14_YwkyYioH9UnTWRCUri3yYQ_y_2024_jpg.rf.b6bac88c52c81a60f9f16b316c41c144.jpg: ignoring corrupt image/label: image size (32, 9) <10 pixels\n",
      "\u001b[34m\u001b[1mtrain: \u001b[0mWARNING  C:\\Users\\vodnyy\\Desktop\\work_III\\datasets\\datasets\\train\\images\\326_id_2_d_6_JjIA0ExzQmkX-ZccIHvHNQ_y_2024_jpg.rf.b1875076466533302b12d5024e5c90fe.jpg: ignoring corrupt image/label: image size (27, 9) <10 pixels\n",
      "\u001b[34m\u001b[1mtrain: \u001b[0mWARNING  C:\\Users\\vodnyy\\Desktop\\work_III\\datasets\\datasets\\train\\images\\328_id_1_d_14_ZIZhoMEyYcsinxToYyTTxA_y_2024_jpg.rf.e7dee76b3ad702e871b2c86466d14cea.jpg: ignoring corrupt image/label: image size (24, 7) <10 pixels\n",
      "\u001b[34m\u001b[1mtrain: \u001b[0mWARNING  C:\\Users\\vodnyy\\Desktop\\work_III\\datasets\\datasets\\train\\images\\339_id_0_d_8_ANFY2VF03MmQZih-tdWwHg_y_2018_jpg.rf.204f2b7517e632051041afaf42ed462f.jpg: ignoring corrupt image/label: image size (142, 9) <10 pixels\n",
      "\u001b[34m\u001b[1mtrain: \u001b[0mWARNING  C:\\Users\\vodnyy\\Desktop\\work_III\\datasets\\datasets\\train\\images\\340_id_2_d_15_PUkSEBx0e6e9H3egzZCGuA_y_2024_jpg.rf.9252605a73faea2ebc9ca256e867a105.jpg: ignoring corrupt image/label: image size (97, 6) <10 pixels\n",
      "\u001b[34m\u001b[1mtrain: \u001b[0mWARNING  C:\\Users\\vodnyy\\Desktop\\work_III\\datasets\\datasets\\train\\images\\341_id_0_d_6_hm47BZhbkKhSMZL7KAM7gA_y_2024_jpg.rf.b41e91489616b76f60fd524cfe3123b0.jpg: ignoring corrupt image/label: image size (9, 19) <10 pixels\n",
      "\u001b[34m\u001b[1mtrain: \u001b[0mWARNING  C:\\Users\\vodnyy\\Desktop\\work_III\\datasets\\datasets\\train\\images\\341_id_0_d_8_oZPQKTPhHnRPlJlzELx8Rw_y_2024_jpg.rf.dd4b36629b95d09192d6cb10eec4b9cf.jpg: ignoring corrupt image/label: image size (24, 3) <10 pixels\n",
      "\u001b[34m\u001b[1mtrain: \u001b[0mWARNING  C:\\Users\\vodnyy\\Desktop\\work_III\\datasets\\datasets\\train\\images\\356_id_0_d_11_SFUydCdbntfUNlJ_kzBlpA_y_2024_jpg.rf.10b840770da16b64faf4371bb6db2e0a.jpg: ignoring corrupt image/label: image size (31, 9) <10 pixels\n",
      "\u001b[34m\u001b[1mtrain: \u001b[0mWARNING  C:\\Users\\vodnyy\\Desktop\\work_III\\datasets\\datasets\\train\\images\\356_id_0_d_11_SFUydCdbntfUNlJ_kzBlpA_y_2024_jpg.rf.3b7c63b3fea1854542bec684a5d52bdc.jpg: ignoring corrupt image/label: image size (27, 4) <10 pixels\n",
      "\u001b[34m\u001b[1mtrain: \u001b[0mWARNING  C:\\Users\\vodnyy\\Desktop\\work_III\\datasets\\datasets\\train\\images\\358_id_0_d_8_AxfqcXwn_uyVtHtk9Unmjw_y_2024_jpg.rf.00230637285dac67232c6f9a28094ced.jpg: ignoring corrupt image/label: image size (198, 8) <10 pixels\n",
      "\u001b[34m\u001b[1mtrain: \u001b[0mWARNING  C:\\Users\\vodnyy\\Desktop\\work_III\\datasets\\datasets\\train\\images\\358_id_0_d_8_AxfqcXwn_uyVtHtk9Unmjw_y_2024_jpg.rf.ff53b10f8caf8f3b091622333b10debd.jpg: ignoring corrupt image/label: image size (119, 5) <10 pixels\n",
      "\u001b[34m\u001b[1mtrain: \u001b[0mWARNING  C:\\Users\\vodnyy\\Desktop\\work_III\\datasets\\datasets\\train\\images\\358_id_1_d_12_yaF__O3_edrFImZkuX6aWQ_y_2024_jpg.rf.d911a7ad6faf458f791ed3ed570e3690.jpg: ignoring corrupt image/label: image size (118, 7) <10 pixels\n",
      "\u001b[34m\u001b[1mtrain: \u001b[0mWARNING  C:\\Users\\vodnyy\\Desktop\\work_III\\datasets\\datasets\\train\\images\\358_id_2_d_7_L-oH1Yrx33MRgV_JtueG-w_y_2024_jpg.rf.bfc09d720382c6db2213fc5500bf193e.jpg: ignoring corrupt image/label: image size (28, 3) <10 pixels\n",
      "\u001b[34m\u001b[1mtrain: \u001b[0mWARNING  C:\\Users\\vodnyy\\Desktop\\work_III\\datasets\\datasets\\train\\images\\359_id_1_d_11_C6SZUW9dndyZ56vlzUaPrA_y_2024_jpg.rf.5b4eedd3aea7095370f6a6926140b514.jpg: ignoring corrupt image/label: image size (39, 4) <10 pixels\n",
      "\u001b[34m\u001b[1mtrain: \u001b[0mWARNING  C:\\Users\\vodnyy\\Desktop\\work_III\\datasets\\datasets\\train\\images\\359_id_1_d_11_C6SZUW9dndyZ56vlzUaPrA_y_2024_jpg.rf.6d37f5692e27cca4c8c02e534b2103a9.jpg: ignoring corrupt image/label: image size (165, 6) <10 pixels\n",
      "\u001b[34m\u001b[1mtrain: \u001b[0mWARNING  C:\\Users\\vodnyy\\Desktop\\work_III\\datasets\\datasets\\train\\images\\360_F_248649535_oOFXZMh5UZkdg6NbUOffvnAks10qw6Sb_jpg.rf.132c692b4b283928e5be3556ed15da53.jpg: 1 duplicate labels removed\n",
      "\u001b[34m\u001b[1mtrain: \u001b[0mWARNING  C:\\Users\\vodnyy\\Desktop\\work_III\\datasets\\datasets\\train\\images\\360_F_248649535_oOFXZMh5UZkdg6NbUOffvnAks10qw6Sb_jpg.rf.61f3877a3e20a0541077662e778d1609.jpg: 1 duplicate labels removed\n",
      "\u001b[34m\u001b[1mtrain: \u001b[0mWARNING  C:\\Users\\vodnyy\\Desktop\\work_III\\datasets\\datasets\\train\\images\\360_F_76104289_OuTPbpUtHV817z5g2q6sTriTzlpXCHVQ_jpg.rf.6b3d5094e90a7bfed31730dc081e24fb.jpg: 3 duplicate labels removed\n",
      "\u001b[34m\u001b[1mtrain: \u001b[0mWARNING  C:\\Users\\vodnyy\\Desktop\\work_III\\datasets\\datasets\\train\\images\\360_F_76104289_OuTPbpUtHV817z5g2q6sTriTzlpXCHVQ_jpg.rf.a8d22beb024ae115164e3fe6c0f73bd6.jpg: 2 duplicate labels removed\n",
      "\u001b[34m\u001b[1mtrain: \u001b[0mWARNING  C:\\Users\\vodnyy\\Desktop\\work_III\\datasets\\datasets\\train\\images\\371_id_1_d_12_sU4_H_gZgyHZjTk9KQ0JbQ_y_2024_jpg.rf.6926fb230cfe690447bc652039c168aa.jpg: ignoring corrupt image/label: image size (122, 4) <10 pixels\n",
      "\u001b[34m\u001b[1mtrain: \u001b[0mWARNING  C:\\Users\\vodnyy\\Desktop\\work_III\\datasets\\datasets\\train\\images\\447082-trees-forest-aerial-drone-photo-pine-trees-nature_jpg.rf.a57ab988eddc3f7d8b10209d425b7da3.jpg: 1 duplicate labels removed\n",
      "\u001b[34m\u001b[1mtrain: \u001b[0mWARNING  C:\\Users\\vodnyy\\Desktop\\work_III\\datasets\\datasets\\train\\images\\447082-trees-forest-aerial-drone-photo-pine-trees-nature_jpg.rf.fe7357539a797c8ccb20d61aa21c5fd1.jpg: 1 duplicate labels removed\n",
      "\u001b[34m\u001b[1mtrain: \u001b[0mWARNING  C:\\Users\\vodnyy\\Desktop\\work_III\\datasets\\datasets\\train\\images\\91795616-5805_jpg.rf.c00c2dbf7899ba4bbb9866ed04821b66.jpg: 1 duplicate labels removed\n",
      "\u001b[34m\u001b[1mtrain: \u001b[0mWARNING  C:\\Users\\vodnyy\\Desktop\\work_III\\datasets\\datasets\\train\\images\\91795616-5805_jpg.rf.c5a69c49f9691df7f5afee6d129f2ed4.jpg: 1 duplicate labels removed\n",
      "\u001b[34m\u001b[1mtrain: \u001b[0mWARNING  C:\\Users\\vodnyy\\Desktop\\work_III\\datasets\\datasets\\train\\images\\Rusmus_jpg.rf.43b5eeb88d972a105423a15344577292.jpg: 1 duplicate labels removed\n",
      "\u001b[34m\u001b[1mtrain: \u001b[0mWARNING  C:\\Users\\vodnyy\\Desktop\\work_III\\datasets\\datasets\\train\\images\\Rusmus_jpg.rf.a72010b580d44d99241a923b813292d9.jpg: 2 duplicate labels removed\n",
      "\u001b[34m\u001b[1mtrain: \u001b[0mWARNING  C:\\Users\\vodnyy\\Desktop\\work_III\\datasets\\datasets\\train\\images\\Rusmus_jpg.rf.ac530d5ec52b5d4d78ed537de67d3621.jpg: 1 duplicate labels removed\n",
      "\u001b[34m\u001b[1mtrain: \u001b[0mWARNING  C:\\Users\\vodnyy\\Desktop\\work_III\\datasets\\datasets\\train\\images\\Rusmus_jpg.rf.af84a2b0e5238ccb8590a40ab70250fa.jpg: 2 duplicate labels removed\n",
      "\u001b[34m\u001b[1mtrain: \u001b[0mWARNING  C:\\Users\\vodnyy\\Desktop\\work_III\\datasets\\datasets\\train\\images\\Tipos-de-arboles-19-Abies-pinsapo-746x1024_jpg.rf.9be0a9549195822c7fb985ca5b906c92.jpg: 8 duplicate labels removed\n",
      "\u001b[34m\u001b[1mtrain: \u001b[0mWARNING  C:\\Users\\vodnyy\\Desktop\\work_III\\datasets\\datasets\\train\\images\\Tipos-de-arboles-19-Abies-pinsapo-746x1024_jpg.rf.e134b4c0793817dc9eeb8219eb7f9182.jpg: 12 duplicate labels removed\n",
      "\u001b[34m\u001b[1mtrain: \u001b[0mWARNING  C:\\Users\\vodnyy\\Desktop\\work_III\\datasets\\datasets\\train\\images\\cropped-forests_jpg.rf.5e555bc8adea3cf7cc9b7c81c14c56dd.jpg: 2 duplicate labels removed\n",
      "\u001b[34m\u001b[1mtrain: \u001b[0mWARNING  C:\\Users\\vodnyy\\Desktop\\work_III\\datasets\\datasets\\train\\images\\cropped-forests_jpg.rf.ae126bfebefcf7d1566e913183c774f6.jpg: 2 duplicate labels removed\n",
      "\u001b[34m\u001b[1mtrain: \u001b[0mWARNING  C:\\Users\\vodnyy\\Desktop\\work_III\\datasets\\datasets\\train\\images\\desktop-wallpaper-50-forest-fire-bushfires_jpg.rf.1c39f398d4e0bbe76909902ebea10e07.jpg: 1 duplicate labels removed\n",
      "\u001b[34m\u001b[1mtrain: \u001b[0mWARNING  C:\\Users\\vodnyy\\Desktop\\work_III\\datasets\\datasets\\train\\images\\desktop-wallpaper-50-forest-fire-bushfires_jpg.rf.b0bba19a991e7b2b40f5f49faa82693c.jpg: 1 duplicate labels removed\n",
      "\u001b[34m\u001b[1mtrain: \u001b[0mWARNING  C:\\Users\\vodnyy\\Desktop\\work_III\\datasets\\datasets\\train\\images\\duvar-resimleri-sisli-bir-sabah-alanindaki-agaclar-jpg_jpg.rf.6a72d86c235a22ec3a24a8088eb48494.jpg: 1 duplicate labels removed\n",
      "\u001b[34m\u001b[1mtrain: \u001b[0mWARNING  C:\\Users\\vodnyy\\Desktop\\work_III\\datasets\\datasets\\train\\images\\duvar-resimleri-sisli-bir-sabah-alanindaki-agaclar-jpg_jpg.rf.c10389a0bd63e659d05b12f5437c3331.jpg: 1 duplicate labels removed\n",
      "\u001b[34m\u001b[1mtrain: \u001b[0mWARNING  C:\\Users\\vodnyy\\Desktop\\work_III\\datasets\\datasets\\train\\images\\forest_jpg.rf.43b95a530c69a9384932c5e852f0fb05.jpg: 1 duplicate labels removed\n",
      "\u001b[34m\u001b[1mtrain: \u001b[0mWARNING  C:\\Users\\vodnyy\\Desktop\\work_III\\datasets\\datasets\\train\\images\\forest_jpg.rf.cfcff076c4d4ce3bbd620cc85ff6d8a5.jpg: 1 duplicate labels removed\n",
      "\u001b[34m\u001b[1mtrain: \u001b[0mWARNING  C:\\Users\\vodnyy\\Desktop\\work_III\\datasets\\datasets\\train\\images\\istockphoto-1129118934-612x612_jpg.rf.38142910074b04b1287be1bd03f5564f.jpg: 1 duplicate labels removed\n",
      "\u001b[34m\u001b[1mtrain: \u001b[0mWARNING  C:\\Users\\vodnyy\\Desktop\\work_III\\datasets\\datasets\\train\\images\\istockphoto-1129118934-612x612_jpg.rf.f73277cf375453952574f4c7f09551ae.jpg: 1 duplicate labels removed\n"
     ]
    },
    {
     "name": "stderr",
     "output_type": "stream",
     "text": [
      "\n"
     ]
    },
    {
     "name": "stdout",
     "output_type": "stream",
     "text": [
      "\u001b[34m\u001b[1mtrain: \u001b[0mNew cache created: C:\\Users\\vodnyy\\Desktop\\work_III\\datasets\\datasets\\train\\labels.cache\n"
     ]
    },
    {
     "name": "stderr",
     "output_type": "stream",
     "text": [
      "\u001b[34m\u001b[1mtrain: \u001b[0mCaching images (37.7GB Disk): 100%|██████████| 21848/21848 [01:43<00:00, 211.49it/s]\n",
      "\u001b[34m\u001b[1mval: \u001b[0mScanning C:\\Users\\vodnyy\\Desktop\\work_III\\datasets\\datasets\\valid\\labels.cache... 5027 images, 2 backgrounds, 11 corrupt: 100%|██████████| 5038/5038 [00:00<?, ?it/s]"
     ]
    },
    {
     "name": "stdout",
     "output_type": "stream",
     "text": [
      "\u001b[34m\u001b[1mval: \u001b[0mWARNING  C:\\Users\\vodnyy\\Desktop\\work_III\\datasets\\datasets\\valid\\images\\193_id_0_d_9_PNC6FB17f4_LqONBbflpGw_y_2024_jpg.rf.4e248fca49ecdbd4550cebd1d524e427.jpg: ignoring corrupt image/label: image size (164, 8) <10 pixels\n",
      "\u001b[34m\u001b[1mval: \u001b[0mWARNING  C:\\Users\\vodnyy\\Desktop\\work_III\\datasets\\datasets\\valid\\images\\193_id_1_d_9_-37LAzcLjMjrcrwbaG4BBw_y_2017_jpg.rf.3002d54ff8b7a0a2134fe2498df61723.jpg: ignoring corrupt image/label: image size (158, 7) <10 pixels\n",
      "\u001b[34m\u001b[1mval: \u001b[0mWARNING  C:\\Users\\vodnyy\\Desktop\\work_III\\datasets\\datasets\\valid\\images\\195_id_1_d_14_xgMBc9j5J-WJEu6-zV71UQ_y_2024_jpg.rf.3a32c98ad17794e02a5a384d9214d049.jpg: ignoring corrupt image/label: image size (75, 4) <10 pixels\n",
      "\u001b[34m\u001b[1mval: \u001b[0mWARNING  C:\\Users\\vodnyy\\Desktop\\work_III\\datasets\\datasets\\valid\\images\\195_id_1_d_14_xgMBc9j5J-WJEu6-zV71UQ_y_2024_jpg.rf.8dbf2b608709afe12cf2c56e550544a9.jpg: ignoring corrupt image/label: image size (29, 9) <10 pixels\n",
      "\u001b[34m\u001b[1mval: \u001b[0mWARNING  C:\\Users\\vodnyy\\Desktop\\work_III\\datasets\\datasets\\valid\\images\\196_id_0_d_8_JsEnJwOVKJ1joB7TrmqF0Q_y_2024_jpg.rf.f993f06eb4bf40a72850e97383ecf6c6.jpg: ignoring corrupt image/label: image size (33, 3) <10 pixels\n",
      "\u001b[34m\u001b[1mval: \u001b[0mWARNING  C:\\Users\\vodnyy\\Desktop\\work_III\\datasets\\datasets\\valid\\images\\200_id_0_d_9_GLYZ3OQ9IjUNvsi49qbgiw_y_2022_jpg.rf.8bbdd51d5d4acaf829402ba3b28660b8.jpg: ignoring corrupt image/label: image size (196, 9) <10 pixels\n",
      "\u001b[34m\u001b[1mval: \u001b[0mWARNING  C:\\Users\\vodnyy\\Desktop\\work_III\\datasets\\datasets\\valid\\images\\202_id_0_d_10_u-ZWkjqmvG2rlFeW8Rduhg_y_2024_jpg.rf.bd8eaf47364b9bd737715d6c6d518283.jpg: ignoring corrupt image/label: image size (40, 5) <10 pixels\n",
      "\u001b[34m\u001b[1mval: \u001b[0mWARNING  C:\\Users\\vodnyy\\Desktop\\work_III\\datasets\\datasets\\valid\\images\\206_id_0_d_10_qXUSSVOk8gx9JNVSxycE1g_y_2024_jpg.rf.e8907776e058bab8563b125014c38837.jpg: ignoring corrupt image/label: image size (165, 9) <10 pixels\n",
      "\u001b[34m\u001b[1mval: \u001b[0mWARNING  C:\\Users\\vodnyy\\Desktop\\work_III\\datasets\\datasets\\valid\\images\\212_id_1_d_14_X-P3rbhDU7raos9_Jrt95g_y_2024_jpg.rf.8e9729eb8593dc9d25a65cd448621028.jpg: ignoring corrupt image/label: image size (22, 9) <10 pixels\n",
      "\u001b[34m\u001b[1mval: \u001b[0mWARNING  C:\\Users\\vodnyy\\Desktop\\work_III\\datasets\\datasets\\valid\\images\\213_id_1_d_13_-nzC-2Px7K3IW7h_-lsx5g_y_2024_jpg.rf.fc95b4c944dcf6ff09bbd6b533cf0acd.jpg: ignoring corrupt image/label: image size (76, 5) <10 pixels\n",
      "\u001b[34m\u001b[1mval: \u001b[0mWARNING  C:\\Users\\vodnyy\\Desktop\\work_III\\datasets\\datasets\\valid\\images\\216_id_1_d_14_ZhR7ntLYz4m1zwZVSb27iA_y_2024_jpg.rf.793c98b49b6226a44dc69102a8d1f21f.jpg: ignoring corrupt image/label: image size (113, 5) <10 pixels\n",
      "\u001b[34m\u001b[1mval: \u001b[0mWARNING  C:\\Users\\vodnyy\\Desktop\\work_III\\datasets\\datasets\\valid\\images\\istockphoto-1332860307-612x612_jpg.rf.3c790933280693ca3d2f59cd41a247fe.jpg: 15 duplicate labels removed\n",
      "\u001b[34m\u001b[1mval: \u001b[0mWARNING  C:\\Users\\vodnyy\\Desktop\\work_III\\datasets\\datasets\\valid\\images\\istockphoto-1388363228-612x612_jpg.rf.d70db508a25309557f82c5bab60edf5c.jpg: 1 duplicate labels removed\n",
      "\u001b[34m\u001b[1mval: \u001b[0mWARNING  C:\\Users\\vodnyy\\Desktop\\work_III\\datasets\\datasets\\valid\\images\\istockphoto-1433222517-612x612_jpg.rf.11f3f2ca8a318b28331c55ee7b30be14.jpg: 4 duplicate labels removed\n",
      "\u001b[34m\u001b[1mval: \u001b[0mWARNING  C:\\Users\\vodnyy\\Desktop\\work_III\\datasets\\datasets\\valid\\images\\istockphoto-474517002-612x612_jpg.rf.9c8e406bbf1f2b643976273f77c563fd.jpg: 1 duplicate labels removed\n",
      "\u001b[34m\u001b[1mval: \u001b[0mWARNING  C:\\Users\\vodnyy\\Desktop\\work_III\\datasets\\datasets\\valid\\images\\istockphoto-858119252-612x612_jpg.rf.e39e648384c8d5075d411c5f3898402d.jpg: 1 duplicate labels removed\n",
      "\u001b[34m\u001b[1mval: \u001b[0mWARNING  C:\\Users\\vodnyy\\Desktop\\work_III\\datasets\\datasets\\valid\\images\\pexels-matthew-montrone-1179229_jpg.rf.3d0e9b1c2ebac2a55a052ec9b0aa2f2b.jpg: 17 duplicate labels removed\n",
      "\u001b[34m\u001b[1mval: \u001b[0mWARNING  C:\\Users\\vodnyy\\Desktop\\work_III\\datasets\\datasets\\valid\\images\\pexels-photo-1481581_jpeg_jpg.rf.595c0014667851a1207f4111870b7d2d.jpg: 1 duplicate labels removed\n",
      "\u001b[34m\u001b[1mval: \u001b[0mWARNING  C:\\Users\\vodnyy\\Desktop\\work_III\\datasets\\datasets\\valid\\images\\pexels-photo-4183522_jpeg_jpg.rf.50f4ef525d7643fe02b345eddd1a30e1.jpg: 18 duplicate labels removed\n",
      "\u001b[34m\u001b[1mval: \u001b[0mWARNING  C:\\Users\\vodnyy\\Desktop\\work_III\\datasets\\datasets\\valid\\images\\pexels-photo-4183522_jpeg_jpg.rf.a55f79f01da2482e9193fe52bea4487f.jpg: 1 duplicate labels removed\n",
      "\u001b[34m\u001b[1mval: \u001b[0mWARNING  C:\\Users\\vodnyy\\Desktop\\work_III\\datasets\\datasets\\valid\\images\\pexels-yaroslav-shuraev-1834399_jpg.rf.a5cf1429eb8fb7539e4a16b3621b3408.jpg: 2 duplicate labels removed\n",
      "\u001b[34m\u001b[1mval: \u001b[0mWARNING  C:\\Users\\vodnyy\\Desktop\\work_III\\datasets\\datasets\\valid\\images\\photo-1537458946910-d0a4db08b4dd_jpg.rf.29b817b6fed014c63a05c805bc6796ea.jpg: 2 duplicate labels removed\n",
      "\u001b[34m\u001b[1mval: \u001b[0mWARNING  C:\\Users\\vodnyy\\Desktop\\work_III\\datasets\\datasets\\valid\\images\\ruyada-cam-agaci-gormek-001_jpg.rf.b48845cda409e102a4fa6df1c7541edb.jpg: 1 duplicate labels removed\n"
     ]
    },
    {
     "name": "stderr",
     "output_type": "stream",
     "text": [
      "\n",
      "\u001b[34m\u001b[1mval: \u001b[0mCaching images (10.4GB Disk): 100%|██████████| 5027/5027 [02:40<00:00, 31.41it/s] \n"
     ]
    },
    {
     "name": "stdout",
     "output_type": "stream",
     "text": [
      "Plotting labels to runs\\detect\\train2\\labels.jpg... \n",
      "\u001b[34m\u001b[1moptimizer:\u001b[0m 'optimizer=auto' found, ignoring 'lr0=0.01' and 'momentum=0.937' and determining best 'optimizer', 'lr0' and 'momentum' automatically... \n",
      "\u001b[34m\u001b[1moptimizer:\u001b[0m SGD(lr=0.01, momentum=0.9) with parameter groups 81 weight(decay=0.0), 88 weight(decay=0.00053125), 87 bias(decay=0.0)\n",
      "Image sizes 640 train, 640 val\n",
      "Using 8 dataloader workers\n",
      "Logging results to \u001b[1mruns\\detect\\train2\u001b[0m\n",
      "Starting training for 100 epochs...\n",
      "\n",
      "      Epoch    GPU_mem   box_loss   cls_loss   dfl_loss  Instances       Size\n"
     ]
    },
    {
     "name": "stderr",
     "output_type": "stream",
     "text": [
      "      1/100      6.37G      1.335      1.687       1.44          9        640: 100%|██████████| 1286/1286 [04:48<00:00,  4.45it/s]\n",
      "                 Class     Images  Instances      Box(P          R      mAP50  mAP50-95): 100%|██████████| 148/148 [01:20<00:00,  1.83it/s]\n"
     ]
    },
    {
     "name": "stdout",
     "output_type": "stream",
     "text": [
      "                   all       5027      24630      0.766      0.575       0.64      0.364\n",
      "\n",
      "      Epoch    GPU_mem   box_loss   cls_loss   dfl_loss  Instances       Size\n"
     ]
    },
    {
     "name": "stderr",
     "output_type": "stream",
     "text": [
      "      2/100      6.54G      1.313      1.279      1.413          8        640: 100%|██████████| 1286/1286 [04:34<00:00,  4.69it/s]\n",
      "                 Class     Images  Instances      Box(P          R      mAP50  mAP50-95): 100%|██████████| 148/148 [03:13<00:00,  1.31s/it]"
     ]
    },
    {
     "name": "stdout",
     "output_type": "stream",
     "text": [
      "                   all       5027      24630      0.679      0.567      0.596      0.333\n"
     ]
    },
    {
     "name": "stderr",
     "output_type": "stream",
     "text": [
      "\n"
     ]
    },
    {
     "name": "stdout",
     "output_type": "stream",
     "text": [
      "\n",
      "      Epoch    GPU_mem   box_loss   cls_loss   dfl_loss  Instances       Size\n"
     ]
    },
    {
     "name": "stderr",
     "output_type": "stream",
     "text": [
      "      3/100      6.85G      1.428      1.436      1.492          8        640: 100%|██████████| 1286/1286 [04:31<00:00,  4.74it/s]\n",
      "                 Class     Images  Instances      Box(P          R      mAP50  mAP50-95): 100%|██████████| 148/148 [01:11<00:00,  2.07it/s]\n"
     ]
    },
    {
     "name": "stdout",
     "output_type": "stream",
     "text": [
      "                   all       5027      24630      0.649       0.47      0.508      0.271\n",
      "\n",
      "      Epoch    GPU_mem   box_loss   cls_loss   dfl_loss  Instances       Size\n"
     ]
    },
    {
     "name": "stderr",
     "output_type": "stream",
     "text": [
      "      4/100      6.32G      1.455      1.483      1.523          6        640: 100%|██████████| 1286/1286 [04:29<00:00,  4.77it/s]\n",
      "                 Class     Images  Instances      Box(P          R      mAP50  mAP50-95): 100%|██████████| 148/148 [02:38<00:00,  1.07s/it]\n"
     ]
    },
    {
     "name": "stdout",
     "output_type": "stream",
     "text": [
      "                   all       5027      24630      0.689      0.508      0.548      0.294\n",
      "\n",
      "      Epoch    GPU_mem   box_loss   cls_loss   dfl_loss  Instances       Size\n"
     ]
    },
    {
     "name": "stderr",
     "output_type": "stream",
     "text": [
      "      5/100      6.12G      1.374       1.35      1.469          4        640: 100%|██████████| 1286/1286 [04:30<00:00,  4.76it/s]\n",
      "                 Class     Images  Instances      Box(P          R      mAP50  mAP50-95): 100%|██████████| 148/148 [01:39<00:00,  1.48it/s]\n"
     ]
    },
    {
     "name": "stdout",
     "output_type": "stream",
     "text": [
      "                   all       5027      24630      0.764      0.518      0.591      0.325\n",
      "\n",
      "      Epoch    GPU_mem   box_loss   cls_loss   dfl_loss  Instances       Size\n"
     ]
    },
    {
     "name": "stderr",
     "output_type": "stream",
     "text": [
      "      6/100      6.57G       1.33      1.275      1.432          7        640: 100%|██████████| 1286/1286 [04:28<00:00,  4.80it/s]\n",
      "                 Class     Images  Instances      Box(P          R      mAP50  mAP50-95): 100%|██████████| 148/148 [02:52<00:00,  1.16s/it]"
     ]
    },
    {
     "name": "stdout",
     "output_type": "stream",
     "text": [
      "                   all       5027      24630        0.7      0.582      0.623       0.36\n"
     ]
    },
    {
     "name": "stderr",
     "output_type": "stream",
     "text": [
      "\n"
     ]
    },
    {
     "name": "stdout",
     "output_type": "stream",
     "text": [
      "\n",
      "      Epoch    GPU_mem   box_loss   cls_loss   dfl_loss  Instances       Size\n"
     ]
    },
    {
     "name": "stderr",
     "output_type": "stream",
     "text": [
      "      7/100      6.76G      1.285      1.207      1.407         19        640: 100%|██████████| 1286/1286 [04:30<00:00,  4.75it/s]\n",
      "                 Class     Images  Instances      Box(P          R      mAP50  mAP50-95): 100%|██████████| 148/148 [02:19<00:00,  1.06it/s]\n"
     ]
    },
    {
     "name": "stdout",
     "output_type": "stream",
     "text": [
      "                   all       5027      24630      0.727      0.613      0.644       0.38\n",
      "\n",
      "      Epoch    GPU_mem   box_loss   cls_loss   dfl_loss  Instances       Size\n"
     ]
    },
    {
     "name": "stderr",
     "output_type": "stream",
     "text": [
      "      8/100      6.99G      1.262      1.172      1.385          8        640: 100%|██████████| 1286/1286 [04:27<00:00,  4.80it/s]\n",
      "                 Class     Images  Instances      Box(P          R      mAP50  mAP50-95): 100%|██████████| 148/148 [01:37<00:00,  1.51it/s]\n"
     ]
    },
    {
     "name": "stdout",
     "output_type": "stream",
     "text": [
      "                   all       5027      24630      0.813       0.57      0.661      0.388\n",
      "\n",
      "      Epoch    GPU_mem   box_loss   cls_loss   dfl_loss  Instances       Size\n"
     ]
    },
    {
     "name": "stderr",
     "output_type": "stream",
     "text": [
      "      9/100      6.36G      1.238      1.124      1.367        113        640: 100%|██████████| 1286/1286 [04:27<00:00,  4.81it/s]\n",
      "                 Class     Images  Instances      Box(P          R      mAP50  mAP50-95): 100%|██████████| 148/148 [02:24<00:00,  1.02it/s]"
     ]
    },
    {
     "name": "stdout",
     "output_type": "stream",
     "text": [
      "                   all       5027      24630      0.803      0.631      0.699      0.418\n"
     ]
    },
    {
     "name": "stderr",
     "output_type": "stream",
     "text": [
      "\n"
     ]
    },
    {
     "name": "stdout",
     "output_type": "stream",
     "text": [
      "\n",
      "      Epoch    GPU_mem   box_loss   cls_loss   dfl_loss  Instances       Size\n"
     ]
    },
    {
     "name": "stderr",
     "output_type": "stream",
     "text": [
      "     10/100      6.05G      1.211      1.095      1.352         10        640: 100%|██████████| 1286/1286 [04:28<00:00,  4.80it/s]\n",
      "                 Class     Images  Instances      Box(P          R      mAP50  mAP50-95): 100%|██████████| 148/148 [01:17<00:00,  1.92it/s]\n"
     ]
    },
    {
     "name": "stdout",
     "output_type": "stream",
     "text": [
      "                   all       5027      24630      0.835      0.598      0.694      0.423\n",
      "\n",
      "      Epoch    GPU_mem   box_loss   cls_loss   dfl_loss  Instances       Size\n"
     ]
    },
    {
     "name": "stderr",
     "output_type": "stream",
     "text": [
      "     11/100      7.17G        1.2      1.074       1.34         15        640: 100%|██████████| 1286/1286 [04:27<00:00,  4.80it/s]\n",
      "                 Class     Images  Instances      Box(P          R      mAP50  mAP50-95): 100%|██████████| 148/148 [03:33<00:00,  1.45s/it]\n"
     ]
    },
    {
     "name": "stdout",
     "output_type": "stream",
     "text": [
      "                   all       5027      24630      0.807      0.625      0.704      0.428\n",
      "\n",
      "      Epoch    GPU_mem   box_loss   cls_loss   dfl_loss  Instances       Size\n"
     ]
    },
    {
     "name": "stderr",
     "output_type": "stream",
     "text": [
      "     12/100      5.27G      1.184      1.048      1.326          7        640: 100%|██████████| 1286/1286 [04:27<00:00,  4.81it/s]\n",
      "                 Class     Images  Instances      Box(P          R      mAP50  mAP50-95): 100%|██████████| 148/148 [01:18<00:00,  1.90it/s]\n"
     ]
    },
    {
     "name": "stdout",
     "output_type": "stream",
     "text": [
      "                   all       5027      24630      0.827      0.628      0.709      0.436\n",
      "\n",
      "      Epoch    GPU_mem   box_loss   cls_loss   dfl_loss  Instances       Size\n"
     ]
    },
    {
     "name": "stderr",
     "output_type": "stream",
     "text": [
      "     13/100      6.28G      1.164      1.026      1.317          5        640: 100%|██████████| 1286/1286 [04:27<00:00,  4.80it/s]\n",
      "                 Class     Images  Instances      Box(P          R      mAP50  mAP50-95): 100%|██████████| 148/148 [02:31<00:00,  1.03s/it]"
     ]
    },
    {
     "name": "stdout",
     "output_type": "stream",
     "text": [
      "                   all       5027      24630      0.821      0.633      0.714      0.439\n"
     ]
    },
    {
     "name": "stderr",
     "output_type": "stream",
     "text": [
      "\n"
     ]
    },
    {
     "name": "stdout",
     "output_type": "stream",
     "text": [
      "\n",
      "      Epoch    GPU_mem   box_loss   cls_loss   dfl_loss  Instances       Size\n"
     ]
    },
    {
     "name": "stderr",
     "output_type": "stream",
     "text": [
      "     14/100      6.52G      1.153      1.013      1.306         10        640: 100%|██████████| 1286/1286 [04:27<00:00,  4.81it/s]\n",
      "                 Class     Images  Instances      Box(P          R      mAP50  mAP50-95): 100%|██████████| 148/148 [01:48<00:00,  1.36it/s]\n"
     ]
    },
    {
     "name": "stdout",
     "output_type": "stream",
     "text": [
      "                   all       5027      24630      0.802      0.647      0.718      0.446\n",
      "\n",
      "      Epoch    GPU_mem   box_loss   cls_loss   dfl_loss  Instances       Size\n"
     ]
    },
    {
     "name": "stderr",
     "output_type": "stream",
     "text": [
      "     15/100      6.38G      1.146      1.005      1.303          9        640: 100%|██████████| 1286/1286 [04:27<00:00,  4.80it/s]\n",
      "                 Class     Images  Instances      Box(P          R      mAP50  mAP50-95): 100%|██████████| 148/148 [03:10<00:00,  1.29s/it]"
     ]
    },
    {
     "name": "stdout",
     "output_type": "stream",
     "text": [
      "                   all       5027      24630      0.816      0.631      0.714      0.442\n"
     ]
    },
    {
     "name": "stderr",
     "output_type": "stream",
     "text": [
      "\n"
     ]
    },
    {
     "name": "stdout",
     "output_type": "stream",
     "text": [
      "\n",
      "      Epoch    GPU_mem   box_loss   cls_loss   dfl_loss  Instances       Size\n"
     ]
    },
    {
     "name": "stderr",
     "output_type": "stream",
     "text": [
      "     16/100      6.19G      1.132     0.9865      1.293          5        640: 100%|██████████| 1286/1286 [04:29<00:00,  4.78it/s]\n",
      "                 Class     Images  Instances      Box(P          R      mAP50  mAP50-95): 100%|██████████| 148/148 [01:42<00:00,  1.45it/s]\n"
     ]
    },
    {
     "name": "stdout",
     "output_type": "stream",
     "text": [
      "                   all       5027      24630      0.817      0.659      0.735      0.457\n",
      "\n",
      "      Epoch    GPU_mem   box_loss   cls_loss   dfl_loss  Instances       Size\n"
     ]
    },
    {
     "name": "stderr",
     "output_type": "stream",
     "text": [
      "     17/100      5.92G      1.127     0.9739      1.288          8        640: 100%|██████████| 1286/1286 [04:27<00:00,  4.81it/s]\n",
      "                 Class     Images  Instances      Box(P          R      mAP50  mAP50-95): 100%|██████████| 148/148 [02:36<00:00,  1.06s/it]"
     ]
    },
    {
     "name": "stdout",
     "output_type": "stream",
     "text": [
      "                   all       5027      24630      0.831      0.652      0.737      0.459\n"
     ]
    },
    {
     "name": "stderr",
     "output_type": "stream",
     "text": [
      "\n"
     ]
    },
    {
     "name": "stdout",
     "output_type": "stream",
     "text": [
      "\n",
      "      Epoch    GPU_mem   box_loss   cls_loss   dfl_loss  Instances       Size\n"
     ]
    },
    {
     "name": "stderr",
     "output_type": "stream",
     "text": [
      "     18/100      5.92G      1.114     0.9619      1.283          7        640: 100%|██████████| 1286/1286 [04:28<00:00,  4.78it/s]\n",
      "                 Class     Images  Instances      Box(P          R      mAP50  mAP50-95): 100%|██████████| 148/148 [01:21<00:00,  1.81it/s]\n"
     ]
    },
    {
     "name": "stdout",
     "output_type": "stream",
     "text": [
      "                   all       5027      24630      0.823      0.652      0.726       0.45\n",
      "\n",
      "      Epoch    GPU_mem   box_loss   cls_loss   dfl_loss  Instances       Size\n"
     ]
    },
    {
     "name": "stderr",
     "output_type": "stream",
     "text": [
      "     19/100      6.33G      1.115     0.9476      1.275         10        640: 100%|██████████| 1286/1286 [04:27<00:00,  4.80it/s]\n",
      "                 Class     Images  Instances      Box(P          R      mAP50  mAP50-95): 100%|██████████| 148/148 [02:43<00:00,  1.11s/it]"
     ]
    },
    {
     "name": "stdout",
     "output_type": "stream",
     "text": [
      "                   all       5027      24630      0.839      0.663      0.741      0.463\n"
     ]
    },
    {
     "name": "stderr",
     "output_type": "stream",
     "text": [
      "\n"
     ]
    },
    {
     "name": "stdout",
     "output_type": "stream",
     "text": [
      "\n",
      "      Epoch    GPU_mem   box_loss   cls_loss   dfl_loss  Instances       Size\n"
     ]
    },
    {
     "name": "stderr",
     "output_type": "stream",
     "text": [
      "     20/100      6.74G      1.103     0.9387      1.272         12        640: 100%|██████████| 1286/1286 [04:28<00:00,  4.78it/s]\n",
      "                 Class     Images  Instances      Box(P          R      mAP50  mAP50-95): 100%|██████████| 148/148 [01:23<00:00,  1.77it/s]\n"
     ]
    },
    {
     "name": "stdout",
     "output_type": "stream",
     "text": [
      "                   all       5027      24630       0.83      0.673      0.742       0.47\n",
      "\n",
      "      Epoch    GPU_mem   box_loss   cls_loss   dfl_loss  Instances       Size\n"
     ]
    },
    {
     "name": "stderr",
     "output_type": "stream",
     "text": [
      "     21/100      6.15G       1.09     0.9218      1.263          8        640: 100%|██████████| 1286/1286 [04:28<00:00,  4.80it/s]\n",
      "                 Class     Images  Instances      Box(P          R      mAP50  mAP50-95): 100%|██████████| 148/148 [02:28<00:00,  1.00s/it]"
     ]
    },
    {
     "name": "stdout",
     "output_type": "stream",
     "text": [
      "                   all       5027      24630      0.818      0.668      0.734      0.466\n"
     ]
    },
    {
     "name": "stderr",
     "output_type": "stream",
     "text": [
      "\n"
     ]
    },
    {
     "name": "stdout",
     "output_type": "stream",
     "text": [
      "\n",
      "      Epoch    GPU_mem   box_loss   cls_loss   dfl_loss  Instances       Size\n"
     ]
    },
    {
     "name": "stderr",
     "output_type": "stream",
     "text": [
      "     22/100      6.41G      1.079     0.9188      1.256         17        640: 100%|██████████| 1286/1286 [04:27<00:00,  4.81it/s]\n",
      "                 Class     Images  Instances      Box(P          R      mAP50  mAP50-95): 100%|██████████| 148/148 [01:13<00:00,  2.02it/s]\n"
     ]
    },
    {
     "name": "stdout",
     "output_type": "stream",
     "text": [
      "                   all       5027      24630      0.821      0.663      0.744      0.475\n",
      "\n",
      "      Epoch    GPU_mem   box_loss   cls_loss   dfl_loss  Instances       Size\n"
     ]
    },
    {
     "name": "stderr",
     "output_type": "stream",
     "text": [
      "     23/100      5.79G       1.08     0.9129      1.252          5        640: 100%|██████████| 1286/1286 [04:27<00:00,  4.80it/s]\n",
      "                 Class     Images  Instances      Box(P          R      mAP50  mAP50-95): 100%|██████████| 148/148 [01:42<00:00,  1.45it/s]"
     ]
    },
    {
     "name": "stdout",
     "output_type": "stream",
     "text": [
      "                   all       5027      24630      0.867      0.666      0.752      0.478\n"
     ]
    },
    {
     "name": "stderr",
     "output_type": "stream",
     "text": [
      "\n"
     ]
    },
    {
     "name": "stdout",
     "output_type": "stream",
     "text": [
      "\n",
      "      Epoch    GPU_mem   box_loss   cls_loss   dfl_loss  Instances       Size\n"
     ]
    },
    {
     "name": "stderr",
     "output_type": "stream",
     "text": [
      "     24/100      7.15G      1.084      0.907      1.249          8        640: 100%|██████████| 1286/1286 [04:28<00:00,  4.79it/s]\n",
      "                 Class     Images  Instances      Box(P          R      mAP50  mAP50-95): 100%|██████████| 148/148 [02:01<00:00,  1.22it/s]\n"
     ]
    },
    {
     "name": "stdout",
     "output_type": "stream",
     "text": [
      "                   all       5027      24630      0.817      0.675       0.74      0.473\n",
      "\n",
      "      Epoch    GPU_mem   box_loss   cls_loss   dfl_loss  Instances       Size\n"
     ]
    },
    {
     "name": "stderr",
     "output_type": "stream",
     "text": [
      "     25/100      6.25G      1.064     0.8827      1.241         17        640: 100%|██████████| 1286/1286 [04:27<00:00,  4.80it/s]\n",
      "                 Class     Images  Instances      Box(P          R      mAP50  mAP50-95): 100%|██████████| 148/148 [02:50<00:00,  1.15s/it]"
     ]
    },
    {
     "name": "stdout",
     "output_type": "stream",
     "text": [
      "                   all       5027      24630      0.829      0.674      0.742      0.477\n"
     ]
    },
    {
     "name": "stderr",
     "output_type": "stream",
     "text": [
      "\n"
     ]
    },
    {
     "name": "stdout",
     "output_type": "stream",
     "text": [
      "\n",
      "      Epoch    GPU_mem   box_loss   cls_loss   dfl_loss  Instances       Size\n"
     ]
    },
    {
     "name": "stderr",
     "output_type": "stream",
     "text": [
      "     26/100      6.46G      1.058     0.8872      1.241          8        640: 100%|██████████| 1286/1286 [04:28<00:00,  4.79it/s]\n",
      "                 Class     Images  Instances      Box(P          R      mAP50  mAP50-95): 100%|██████████| 148/148 [01:29<00:00,  1.66it/s]\n"
     ]
    },
    {
     "name": "stdout",
     "output_type": "stream",
     "text": [
      "                   all       5027      24630       0.83      0.678      0.754      0.485\n",
      "\n",
      "      Epoch    GPU_mem   box_loss   cls_loss   dfl_loss  Instances       Size\n"
     ]
    },
    {
     "name": "stderr",
     "output_type": "stream",
     "text": [
      "     27/100      5.72G      1.062     0.8767      1.238          8        640: 100%|██████████| 1286/1286 [04:27<00:00,  4.80it/s]\n",
      "                 Class     Images  Instances      Box(P          R      mAP50  mAP50-95): 100%|██████████| 148/148 [02:40<00:00,  1.08s/it]"
     ]
    },
    {
     "name": "stdout",
     "output_type": "stream",
     "text": [
      "                   all       5027      24630      0.842       0.68      0.761      0.489\n"
     ]
    },
    {
     "name": "stderr",
     "output_type": "stream",
     "text": [
      "\n"
     ]
    },
    {
     "name": "stdout",
     "output_type": "stream",
     "text": [
      "\n",
      "      Epoch    GPU_mem   box_loss   cls_loss   dfl_loss  Instances       Size\n"
     ]
    },
    {
     "name": "stderr",
     "output_type": "stream",
     "text": [
      "     28/100      6.44G      1.045     0.8648      1.227         11        640: 100%|██████████| 1286/1286 [04:28<00:00,  4.79it/s]\n",
      "                 Class     Images  Instances      Box(P          R      mAP50  mAP50-95): 100%|██████████| 148/148 [01:29<00:00,  1.66it/s]\n"
     ]
    },
    {
     "name": "stdout",
     "output_type": "stream",
     "text": [
      "                   all       5027      24630      0.843      0.685      0.759      0.489\n",
      "\n",
      "      Epoch    GPU_mem   box_loss   cls_loss   dfl_loss  Instances       Size\n"
     ]
    },
    {
     "name": "stderr",
     "output_type": "stream",
     "text": [
      "     29/100      6.29G      1.045     0.8627      1.231         12        640: 100%|██████████| 1286/1286 [04:27<00:00,  4.80it/s]\n",
      "                 Class     Images  Instances      Box(P          R      mAP50  mAP50-95): 100%|██████████| 148/148 [02:39<00:00,  1.08s/it]"
     ]
    },
    {
     "name": "stdout",
     "output_type": "stream",
     "text": [
      "                   all       5027      24630      0.841      0.694      0.762      0.489\n"
     ]
    },
    {
     "name": "stderr",
     "output_type": "stream",
     "text": [
      "\n"
     ]
    },
    {
     "name": "stdout",
     "output_type": "stream",
     "text": [
      "\n",
      "      Epoch    GPU_mem   box_loss   cls_loss   dfl_loss  Instances       Size\n"
     ]
    },
    {
     "name": "stderr",
     "output_type": "stream",
     "text": [
      "     30/100      5.87G      1.023     0.8451       1.22         12        640: 100%|██████████| 1286/1286 [04:27<00:00,  4.80it/s]\n",
      "                 Class     Images  Instances      Box(P          R      mAP50  mAP50-95): 100%|██████████| 148/148 [01:10<00:00,  2.10it/s]\n"
     ]
    },
    {
     "name": "stdout",
     "output_type": "stream",
     "text": [
      "                   all       5027      24630      0.833      0.685      0.754      0.488\n",
      "\n",
      "      Epoch    GPU_mem   box_loss   cls_loss   dfl_loss  Instances       Size\n"
     ]
    },
    {
     "name": "stderr",
     "output_type": "stream",
     "text": [
      "     31/100      5.99G       1.04     0.8503      1.226          7        640: 100%|██████████| 1286/1286 [04:28<00:00,  4.80it/s]\n",
      "                 Class     Images  Instances      Box(P          R      mAP50  mAP50-95): 100%|██████████| 148/148 [01:56<00:00,  1.27it/s]"
     ]
    },
    {
     "name": "stdout",
     "output_type": "stream",
     "text": [
      "                   all       5027      24630      0.817       0.68      0.747      0.487\n"
     ]
    },
    {
     "name": "stderr",
     "output_type": "stream",
     "text": [
      "\n"
     ]
    },
    {
     "name": "stdout",
     "output_type": "stream",
     "text": [
      "\n",
      "      Epoch    GPU_mem   box_loss   cls_loss   dfl_loss  Instances       Size\n"
     ]
    },
    {
     "name": "stderr",
     "output_type": "stream",
     "text": [
      "     32/100      6.42G      1.018     0.8336      1.213         15        640: 100%|██████████| 1286/1286 [04:27<00:00,  4.81it/s]\n",
      "                 Class     Images  Instances      Box(P          R      mAP50  mAP50-95): 100%|██████████| 148/148 [01:15<00:00,  1.95it/s]\n"
     ]
    },
    {
     "name": "stdout",
     "output_type": "stream",
     "text": [
      "                   all       5027      24630      0.822      0.682      0.751      0.491\n",
      "\n",
      "      Epoch    GPU_mem   box_loss   cls_loss   dfl_loss  Instances       Size\n"
     ]
    },
    {
     "name": "stderr",
     "output_type": "stream",
     "text": [
      "     33/100      5.79G      1.024     0.8302      1.217         10        640: 100%|██████████| 1286/1286 [04:27<00:00,  4.81it/s]\n",
      "                 Class     Images  Instances      Box(P          R      mAP50  mAP50-95): 100%|██████████| 148/148 [02:59<00:00,  1.21s/it]"
     ]
    },
    {
     "name": "stdout",
     "output_type": "stream",
     "text": [
      "                   all       5027      24630      0.827      0.691      0.755      0.489\n"
     ]
    },
    {
     "name": "stderr",
     "output_type": "stream",
     "text": [
      "\n"
     ]
    },
    {
     "name": "stdout",
     "output_type": "stream",
     "text": [
      "\n",
      "      Epoch    GPU_mem   box_loss   cls_loss   dfl_loss  Instances       Size\n"
     ]
    },
    {
     "name": "stderr",
     "output_type": "stream",
     "text": [
      "     34/100      7.03G      1.027      0.834      1.213          6        640: 100%|██████████| 1286/1286 [04:28<00:00,  4.79it/s]\n",
      "                 Class     Images  Instances      Box(P          R      mAP50  mAP50-95): 100%|██████████| 148/148 [01:54<00:00,  1.29it/s]\n"
     ]
    },
    {
     "name": "stdout",
     "output_type": "stream",
     "text": [
      "                   all       5027      24630      0.831      0.691      0.759      0.492\n",
      "\n",
      "      Epoch    GPU_mem   box_loss   cls_loss   dfl_loss  Instances       Size\n"
     ]
    },
    {
     "name": "stderr",
     "output_type": "stream",
     "text": [
      "     35/100      6.26G      1.014     0.8189      1.206          9        640: 100%|██████████| 1286/1286 [04:27<00:00,  4.80it/s]\n",
      "                 Class     Images  Instances      Box(P          R      mAP50  mAP50-95): 100%|██████████| 148/148 [01:59<00:00,  1.24it/s]"
     ]
    },
    {
     "name": "stdout",
     "output_type": "stream",
     "text": [
      "                   all       5027      24630      0.829      0.697      0.763      0.495\n"
     ]
    },
    {
     "name": "stderr",
     "output_type": "stream",
     "text": [
      "\n"
     ]
    },
    {
     "name": "stdout",
     "output_type": "stream",
     "text": [
      "\n",
      "      Epoch    GPU_mem   box_loss   cls_loss   dfl_loss  Instances       Size\n"
     ]
    },
    {
     "name": "stderr",
     "output_type": "stream",
     "text": [
      "     36/100       5.8G       1.01     0.8163      1.202         16        640: 100%|██████████| 1286/1286 [04:27<00:00,  4.81it/s]\n",
      "                 Class     Images  Instances      Box(P          R      mAP50  mAP50-95): 100%|██████████| 148/148 [01:18<00:00,  1.89it/s]\n"
     ]
    },
    {
     "name": "stdout",
     "output_type": "stream",
     "text": [
      "                   all       5027      24630      0.827      0.699      0.761      0.494\n",
      "\n",
      "      Epoch    GPU_mem   box_loss   cls_loss   dfl_loss  Instances       Size\n"
     ]
    },
    {
     "name": "stderr",
     "output_type": "stream",
     "text": [
      "     37/100      6.73G      1.011     0.8108      1.203          8        640: 100%|██████████| 1286/1286 [04:28<00:00,  4.80it/s]\n",
      "                 Class     Images  Instances      Box(P          R      mAP50  mAP50-95): 100%|██████████| 148/148 [02:49<00:00,  1.15s/it]"
     ]
    },
    {
     "name": "stdout",
     "output_type": "stream",
     "text": [
      "                   all       5027      24630      0.824      0.698      0.755      0.491\n"
     ]
    },
    {
     "name": "stderr",
     "output_type": "stream",
     "text": [
      "\n"
     ]
    },
    {
     "name": "stdout",
     "output_type": "stream",
     "text": [
      "\n",
      "      Epoch    GPU_mem   box_loss   cls_loss   dfl_loss  Instances       Size\n"
     ]
    },
    {
     "name": "stderr",
     "output_type": "stream",
     "text": [
      "     38/100      6.45G     0.9989     0.7987      1.197          9        640: 100%|██████████| 1286/1286 [04:28<00:00,  4.78it/s]\n",
      "                 Class     Images  Instances      Box(P          R      mAP50  mAP50-95): 100%|██████████| 148/148 [01:19<00:00,  1.86it/s]\n"
     ]
    },
    {
     "name": "stdout",
     "output_type": "stream",
     "text": [
      "                   all       5027      24630      0.826        0.7      0.752      0.491\n",
      "\n",
      "      Epoch    GPU_mem   box_loss   cls_loss   dfl_loss  Instances       Size\n"
     ]
    },
    {
     "name": "stderr",
     "output_type": "stream",
     "text": [
      "     39/100      5.19G     0.9984     0.7986      1.194          8        640: 100%|██████████| 1286/1286 [04:27<00:00,  4.81it/s]\n",
      "                 Class     Images  Instances      Box(P          R      mAP50  mAP50-95): 100%|██████████| 148/148 [02:08<00:00,  1.15it/s]"
     ]
    },
    {
     "name": "stdout",
     "output_type": "stream",
     "text": [
      "                   all       5027      24630      0.828        0.7      0.752       0.49\n"
     ]
    },
    {
     "name": "stderr",
     "output_type": "stream",
     "text": [
      "\n"
     ]
    },
    {
     "name": "stdout",
     "output_type": "stream",
     "text": [
      "\n",
      "      Epoch    GPU_mem   box_loss   cls_loss   dfl_loss  Instances       Size\n"
     ]
    },
    {
     "name": "stderr",
     "output_type": "stream",
     "text": [
      "     40/100      7.89G     0.9908     0.7913      1.188         64        640: 100%|██████████| 1286/1286 [05:02<00:00,  4.25it/s]\n",
      "                 Class     Images  Instances      Box(P          R      mAP50  mAP50-95): 100%|██████████| 148/148 [02:00<00:00,  1.22it/s]\n"
     ]
    },
    {
     "name": "stdout",
     "output_type": "stream",
     "text": [
      "                   all       5027      24630      0.823      0.698      0.755      0.491\n",
      "\n",
      "      Epoch    GPU_mem   box_loss   cls_loss   dfl_loss  Instances       Size\n"
     ]
    },
    {
     "name": "stderr",
     "output_type": "stream",
     "text": [
      "     41/100      6.23G     0.9896     0.7803      1.188          9        640: 100%|██████████| 1286/1286 [04:28<00:00,  4.80it/s]\n",
      "                 Class     Images  Instances      Box(P          R      mAP50  mAP50-95): 100%|██████████| 148/148 [02:58<00:00,  1.21s/it]"
     ]
    },
    {
     "name": "stdout",
     "output_type": "stream",
     "text": [
      "                   all       5027      24630       0.82      0.696      0.753      0.491\n"
     ]
    },
    {
     "name": "stderr",
     "output_type": "stream",
     "text": [
      "\n"
     ]
    },
    {
     "name": "stdout",
     "output_type": "stream",
     "text": [
      "\n",
      "      Epoch    GPU_mem   box_loss   cls_loss   dfl_loss  Instances       Size\n"
     ]
    },
    {
     "name": "stderr",
     "output_type": "stream",
     "text": [
      "     42/100      5.79G      0.981     0.7755      1.186          8        640: 100%|██████████| 1286/1286 [04:27<00:00,  4.80it/s]\n",
      "                 Class     Images  Instances      Box(P          R      mAP50  mAP50-95): 100%|██████████| 148/148 [01:13<00:00,  2.01it/s]\n"
     ]
    },
    {
     "name": "stdout",
     "output_type": "stream",
     "text": [
      "                   all       5027      24630      0.814      0.695      0.749      0.489\n",
      "\n",
      "      Epoch    GPU_mem   box_loss   cls_loss   dfl_loss  Instances       Size\n"
     ]
    },
    {
     "name": "stderr",
     "output_type": "stream",
     "text": [
      "     43/100      6.45G     0.9744     0.7668      1.178         24        640: 100%|██████████| 1286/1286 [04:27<00:00,  4.81it/s]\n",
      "                 Class     Images  Instances      Box(P          R      mAP50  mAP50-95): 100%|██████████| 148/148 [02:42<00:00,  1.10s/it]"
     ]
    },
    {
     "name": "stdout",
     "output_type": "stream",
     "text": [
      "                   all       5027      24630      0.815      0.696      0.749       0.49\n"
     ]
    },
    {
     "name": "stderr",
     "output_type": "stream",
     "text": [
      "\n"
     ]
    },
    {
     "name": "stdout",
     "output_type": "stream",
     "text": [
      "\n",
      "      Epoch    GPU_mem   box_loss   cls_loss   dfl_loss  Instances       Size\n"
     ]
    },
    {
     "name": "stderr",
     "output_type": "stream",
     "text": [
      "     44/100      7.25G     0.9778     0.7693      1.183         15        640: 100%|██████████| 1286/1286 [04:29<00:00,  4.77it/s]\n",
      "                 Class     Images  Instances      Box(P          R      mAP50  mAP50-95): 100%|██████████| 148/148 [02:32<00:00,  1.03s/it]\n"
     ]
    },
    {
     "name": "stdout",
     "output_type": "stream",
     "text": [
      "                   all       5027      24630      0.819      0.697       0.75       0.49\n",
      "\n",
      "      Epoch    GPU_mem   box_loss   cls_loss   dfl_loss  Instances       Size\n"
     ]
    },
    {
     "name": "stderr",
     "output_type": "stream",
     "text": [
      "     45/100      6.08G     0.9727     0.7606      1.179         30        640: 100%|██████████| 1286/1286 [04:28<00:00,  4.79it/s]\n",
      "                 Class     Images  Instances      Box(P          R      mAP50  mAP50-95): 100%|██████████| 148/148 [03:28<00:00,  1.41s/it]"
     ]
    },
    {
     "name": "stdout",
     "output_type": "stream",
     "text": [
      "                   all       5027      24630      0.814      0.702      0.751      0.491\n"
     ]
    },
    {
     "name": "stderr",
     "output_type": "stream",
     "text": [
      "\n"
     ]
    },
    {
     "name": "stdout",
     "output_type": "stream",
     "text": [
      "\n",
      "      Epoch    GPU_mem   box_loss   cls_loss   dfl_loss  Instances       Size\n"
     ]
    },
    {
     "name": "stderr",
     "output_type": "stream",
     "text": [
      "     46/100      6.13G     0.9639     0.7575      1.174          9        640: 100%|██████████| 1286/1286 [04:28<00:00,  4.79it/s]\n",
      "                 Class     Images  Instances      Box(P          R      mAP50  mAP50-95): 100%|██████████| 148/148 [01:32<00:00,  1.60it/s]\n"
     ]
    },
    {
     "name": "stdout",
     "output_type": "stream",
     "text": [
      "                   all       5027      24630      0.809      0.703      0.749      0.491\n",
      "\n",
      "      Epoch    GPU_mem   box_loss   cls_loss   dfl_loss  Instances       Size\n"
     ]
    },
    {
     "name": "stderr",
     "output_type": "stream",
     "text": [
      "     47/100       6.1G     0.9651     0.7473      1.174         16        640: 100%|██████████| 1286/1286 [04:28<00:00,  4.79it/s]\n",
      "                 Class     Images  Instances      Box(P          R      mAP50  mAP50-95): 100%|██████████| 148/148 [01:49<00:00,  1.35it/s]\n"
     ]
    },
    {
     "name": "stdout",
     "output_type": "stream",
     "text": [
      "                   all       5027      24630      0.813      0.703      0.749      0.491\n",
      "\n",
      "      Epoch    GPU_mem   box_loss   cls_loss   dfl_loss  Instances       Size\n"
     ]
    },
    {
     "name": "stderr",
     "output_type": "stream",
     "text": [
      "     48/100      6.81G     0.9606      0.745      1.169          6        640: 100%|██████████| 1286/1286 [04:28<00:00,  4.79it/s]\n",
      "                 Class     Images  Instances      Box(P          R      mAP50  mAP50-95): 100%|██████████| 148/148 [01:17<00:00,  1.91it/s]\n"
     ]
    },
    {
     "name": "stdout",
     "output_type": "stream",
     "text": [
      "                   all       5027      24630      0.808      0.706      0.749      0.491\n",
      "\n",
      "      Epoch    GPU_mem   box_loss   cls_loss   dfl_loss  Instances       Size\n"
     ]
    },
    {
     "name": "stderr",
     "output_type": "stream",
     "text": [
      "     49/100      7.06G     0.9616      0.745      1.166         43        640: 100%|██████████| 1286/1286 [04:27<00:00,  4.81it/s]\n",
      "                 Class     Images  Instances      Box(P          R      mAP50  mAP50-95): 100%|██████████| 148/148 [03:44<00:00,  1.52s/it]"
     ]
    },
    {
     "name": "stdout",
     "output_type": "stream",
     "text": [
      "                   all       5027      24630      0.809      0.704      0.748      0.491\n"
     ]
    },
    {
     "name": "stderr",
     "output_type": "stream",
     "text": [
      "\n"
     ]
    },
    {
     "name": "stdout",
     "output_type": "stream",
     "text": [
      "\n",
      "      Epoch    GPU_mem   box_loss   cls_loss   dfl_loss  Instances       Size\n"
     ]
    },
    {
     "name": "stderr",
     "output_type": "stream",
     "text": [
      "     50/100      5.91G     0.9491     0.7353      1.161         12        640: 100%|██████████| 1286/1286 [04:27<00:00,  4.81it/s]\n",
      "                 Class     Images  Instances      Box(P          R      mAP50  mAP50-95): 100%|██████████| 148/148 [01:13<00:00,  2.03it/s]\n"
     ]
    },
    {
     "name": "stdout",
     "output_type": "stream",
     "text": [
      "                   all       5027      24630       0.81      0.704      0.746       0.49\n",
      "\n",
      "      Epoch    GPU_mem   box_loss   cls_loss   dfl_loss  Instances       Size\n"
     ]
    },
    {
     "name": "stderr",
     "output_type": "stream",
     "text": [
      "     51/100      5.82G     0.9437     0.7331      1.158         20        640: 100%|██████████| 1286/1286 [04:27<00:00,  4.81it/s]\n",
      "                 Class     Images  Instances      Box(P          R      mAP50  mAP50-95): 100%|██████████| 148/148 [02:32<00:00,  1.03s/it]"
     ]
    },
    {
     "name": "stdout",
     "output_type": "stream",
     "text": [
      "                   all       5027      24630      0.808      0.703      0.745      0.489\n"
     ]
    },
    {
     "name": "stderr",
     "output_type": "stream",
     "text": [
      "\n"
     ]
    },
    {
     "name": "stdout",
     "output_type": "stream",
     "text": [
      "\n",
      "      Epoch    GPU_mem   box_loss   cls_loss   dfl_loss  Instances       Size\n"
     ]
    },
    {
     "name": "stderr",
     "output_type": "stream",
     "text": [
      "     52/100      6.39G     0.9403     0.7226      1.156          4        640: 100%|██████████| 1286/1286 [04:27<00:00,  4.80it/s]\n",
      "                 Class     Images  Instances      Box(P          R      mAP50  mAP50-95): 100%|██████████| 148/148 [01:32<00:00,  1.60it/s]\n"
     ]
    },
    {
     "name": "stdout",
     "output_type": "stream",
     "text": [
      "                   all       5027      24630      0.805      0.704      0.745      0.489\n",
      "\n",
      "      Epoch    GPU_mem   box_loss   cls_loss   dfl_loss  Instances       Size\n"
     ]
    },
    {
     "name": "stderr",
     "output_type": "stream",
     "text": [
      "     53/100      7.15G     0.9421     0.7185      1.158          6        640: 100%|██████████| 1286/1286 [04:28<00:00,  4.80it/s]\n",
      "                 Class     Images  Instances      Box(P          R      mAP50  mAP50-95): 100%|██████████| 148/148 [02:48<00:00,  1.14s/it]"
     ]
    },
    {
     "name": "stdout",
     "output_type": "stream",
     "text": [
      "                   all       5027      24630      0.804      0.705      0.744      0.488\n"
     ]
    },
    {
     "name": "stderr",
     "output_type": "stream",
     "text": [
      "\n"
     ]
    },
    {
     "name": "stdout",
     "output_type": "stream",
     "text": [
      "\n",
      "      Epoch    GPU_mem   box_loss   cls_loss   dfl_loss  Instances       Size\n"
     ]
    },
    {
     "name": "stderr",
     "output_type": "stream",
     "text": [
      "     54/100      6.56G     0.9329     0.7154      1.153         10        640: 100%|██████████| 1286/1286 [04:27<00:00,  4.80it/s]\n",
      "                 Class     Images  Instances      Box(P          R      mAP50  mAP50-95): 100%|██████████| 148/148 [00:57<00:00,  2.55it/s]\n"
     ]
    },
    {
     "name": "stdout",
     "output_type": "stream",
     "text": [
      "                   all       5027      24630      0.803      0.704      0.744      0.488\n",
      "\n",
      "      Epoch    GPU_mem   box_loss   cls_loss   dfl_loss  Instances       Size\n"
     ]
    },
    {
     "name": "stderr",
     "output_type": "stream",
     "text": [
      "     55/100      6.29G     0.9359     0.7117      1.153          7        640: 100%|██████████| 1286/1286 [04:27<00:00,  4.80it/s]\n",
      "                 Class     Images  Instances      Box(P          R      mAP50  mAP50-95): 100%|██████████| 148/148 [01:56<00:00,  1.27it/s]"
     ]
    },
    {
     "name": "stdout",
     "output_type": "stream",
     "text": [
      "                   all       5027      24630      0.804      0.705      0.743      0.488\n"
     ]
    },
    {
     "name": "stderr",
     "output_type": "stream",
     "text": [
      "\n"
     ]
    },
    {
     "name": "stdout",
     "output_type": "stream",
     "text": [
      "\n",
      "      Epoch    GPU_mem   box_loss   cls_loss   dfl_loss  Instances       Size\n"
     ]
    },
    {
     "name": "stderr",
     "output_type": "stream",
     "text": [
      "     56/100      5.99G     0.9349     0.7128      1.151         47        640: 100%|██████████| 1286/1286 [04:27<00:00,  4.81it/s]\n",
      "                 Class     Images  Instances      Box(P          R      mAP50  mAP50-95): 100%|██████████| 148/148 [01:05<00:00,  2.24it/s]\n"
     ]
    },
    {
     "name": "stdout",
     "output_type": "stream",
     "text": [
      "                   all       5027      24630      0.805      0.704      0.743      0.489\n",
      "\n",
      "      Epoch    GPU_mem   box_loss   cls_loss   dfl_loss  Instances       Size\n"
     ]
    },
    {
     "name": "stderr",
     "output_type": "stream",
     "text": [
      "     57/100      6.38G     0.9219     0.7054      1.146          3        640: 100%|██████████| 1286/1286 [04:27<00:00,  4.80it/s]\n",
      "                 Class     Images  Instances      Box(P          R      mAP50  mAP50-95): 100%|██████████| 148/148 [03:16<00:00,  1.33s/it]"
     ]
    },
    {
     "name": "stdout",
     "output_type": "stream",
     "text": [
      "                   all       5027      24630      0.804      0.704      0.743      0.489\n"
     ]
    },
    {
     "name": "stderr",
     "output_type": "stream",
     "text": [
      "\n"
     ]
    },
    {
     "name": "stdout",
     "output_type": "stream",
     "text": [
      "\n",
      "      Epoch    GPU_mem   box_loss   cls_loss   dfl_loss  Instances       Size\n"
     ]
    },
    {
     "name": "stderr",
     "output_type": "stream",
     "text": [
      "     58/100      6.37G      0.922     0.7056      1.142          6        640: 100%|██████████| 1286/1286 [04:28<00:00,  4.78it/s]\n",
      "                 Class     Images  Instances      Box(P          R      mAP50  mAP50-95): 100%|██████████| 148/148 [01:16<00:00,  1.94it/s]\n"
     ]
    },
    {
     "name": "stdout",
     "output_type": "stream",
     "text": [
      "                   all       5027      24630      0.803      0.705      0.742      0.488\n",
      "\n",
      "      Epoch    GPU_mem   box_loss   cls_loss   dfl_loss  Instances       Size\n"
     ]
    },
    {
     "name": "stderr",
     "output_type": "stream",
     "text": [
      "     59/100      6.82G     0.9159      0.691      1.142         18        640: 100%|██████████| 1286/1286 [04:27<00:00,  4.81it/s]\n",
      "                 Class     Images  Instances      Box(P          R      mAP50  mAP50-95): 100%|██████████| 148/148 [02:44<00:00,  1.11s/it]"
     ]
    },
    {
     "name": "stdout",
     "output_type": "stream",
     "text": [
      "                   all       5027      24630      0.801      0.704      0.742      0.488\n"
     ]
    },
    {
     "name": "stderr",
     "output_type": "stream",
     "text": [
      "\n"
     ]
    },
    {
     "name": "stdout",
     "output_type": "stream",
     "text": [
      "\n",
      "      Epoch    GPU_mem   box_loss   cls_loss   dfl_loss  Instances       Size\n"
     ]
    },
    {
     "name": "stderr",
     "output_type": "stream",
     "text": [
      "     60/100      7.91G     0.9194     0.6914      1.142         16        640: 100%|██████████| 1286/1286 [05:13<00:00,  4.10it/s]\n",
      "                 Class     Images  Instances      Box(P          R      mAP50  mAP50-95): 100%|██████████| 148/148 [02:53<00:00,  1.17s/it]\n"
     ]
    },
    {
     "name": "stdout",
     "output_type": "stream",
     "text": [
      "                   all       5027      24630      0.799      0.706      0.741      0.488\n",
      "\n",
      "      Epoch    GPU_mem   box_loss   cls_loss   dfl_loss  Instances       Size\n"
     ]
    },
    {
     "name": "stderr",
     "output_type": "stream",
     "text": [
      "     61/100      6.06G     0.9132     0.6906      1.138         10        640: 100%|██████████| 1286/1286 [04:28<00:00,  4.79it/s]\n",
      "                 Class     Images  Instances      Box(P          R      mAP50  mAP50-95): 100%|██████████| 148/148 [01:54<00:00,  1.29it/s]"
     ]
    },
    {
     "name": "stdout",
     "output_type": "stream",
     "text": [
      "                   all       5027      24630      0.799      0.705      0.741      0.489\n"
     ]
    },
    {
     "name": "stderr",
     "output_type": "stream",
     "text": [
      "\n"
     ]
    },
    {
     "name": "stdout",
     "output_type": "stream",
     "text": [
      "\n",
      "      Epoch    GPU_mem   box_loss   cls_loss   dfl_loss  Instances       Size\n"
     ]
    },
    {
     "name": "stderr",
     "output_type": "stream",
     "text": [
      "     62/100      6.54G     0.8996     0.6754       1.13          8        640: 100%|██████████| 1286/1286 [04:27<00:00,  4.81it/s]\n",
      "                 Class     Images  Instances      Box(P          R      mAP50  mAP50-95): 100%|██████████| 148/148 [01:29<00:00,  1.66it/s]\n"
     ]
    },
    {
     "name": "stdout",
     "output_type": "stream",
     "text": [
      "                   all       5027      24630      0.799      0.705      0.741      0.488\n",
      "\n",
      "      Epoch    GPU_mem   box_loss   cls_loss   dfl_loss  Instances       Size\n"
     ]
    },
    {
     "name": "stderr",
     "output_type": "stream",
     "text": [
      "     63/100       5.6G     0.9033     0.6754      1.131         14        640: 100%|██████████| 1286/1286 [04:27<00:00,  4.81it/s]\n",
      "                 Class     Images  Instances      Box(P          R      mAP50  mAP50-95): 100%|██████████| 148/148 [02:59<00:00,  1.21s/it]"
     ]
    },
    {
     "name": "stdout",
     "output_type": "stream",
     "text": [
      "                   all       5027      24630      0.798      0.708       0.74      0.488\n"
     ]
    },
    {
     "name": "stderr",
     "output_type": "stream",
     "text": [
      "\n"
     ]
    },
    {
     "name": "stdout",
     "output_type": "stream",
     "text": [
      "\n",
      "      Epoch    GPU_mem   box_loss   cls_loss   dfl_loss  Instances       Size\n"
     ]
    },
    {
     "name": "stderr",
     "output_type": "stream",
     "text": [
      "     64/100      6.16G      0.897      0.671       1.13          9        640: 100%|██████████| 1286/1286 [04:29<00:00,  4.78it/s]\n",
      "                 Class     Images  Instances      Box(P          R      mAP50  mAP50-95): 100%|██████████| 148/148 [01:32<00:00,  1.60it/s]\n"
     ]
    },
    {
     "name": "stdout",
     "output_type": "stream",
     "text": [
      "                   all       5027      24630      0.798       0.71       0.74      0.488\n",
      "\n",
      "      Epoch    GPU_mem   box_loss   cls_loss   dfl_loss  Instances       Size\n"
     ]
    },
    {
     "name": "stderr",
     "output_type": "stream",
     "text": [
      "     65/100      6.44G      0.883     0.6563      1.121         11        640: 100%|██████████| 1286/1286 [04:27<00:00,  4.80it/s]\n",
      "                 Class     Images  Instances      Box(P          R      mAP50  mAP50-95): 100%|██████████| 148/148 [02:52<00:00,  1.17s/it]\n"
     ]
    },
    {
     "name": "stdout",
     "output_type": "stream",
     "text": [
      "                   all       5027      24630      0.797      0.711       0.74      0.488\n",
      "\n",
      "      Epoch    GPU_mem   box_loss   cls_loss   dfl_loss  Instances       Size\n"
     ]
    },
    {
     "name": "stderr",
     "output_type": "stream",
     "text": [
      "     66/100      6.09G     0.8833     0.6594      1.122         11        640: 100%|██████████| 1286/1286 [04:28<00:00,  4.79it/s]\n",
      "                 Class     Images  Instances      Box(P          R      mAP50  mAP50-95): 100%|██████████| 148/148 [01:32<00:00,  1.59it/s]\n"
     ]
    },
    {
     "name": "stdout",
     "output_type": "stream",
     "text": [
      "                   all       5027      24630      0.797      0.711       0.74      0.488\n",
      "\n",
      "      Epoch    GPU_mem   box_loss   cls_loss   dfl_loss  Instances       Size\n"
     ]
    },
    {
     "name": "stderr",
     "output_type": "stream",
     "text": [
      "     67/100      5.82G     0.8875     0.6622      1.123          7        640: 100%|██████████| 1286/1286 [04:29<00:00,  4.78it/s]\n",
      "                 Class     Images  Instances      Box(P          R      mAP50  mAP50-95): 100%|██████████| 148/148 [02:49<00:00,  1.14s/it]"
     ]
    },
    {
     "name": "stdout",
     "output_type": "stream",
     "text": [
      "                   all       5027      24630      0.797      0.711      0.739      0.487\n"
     ]
    },
    {
     "name": "stderr",
     "output_type": "stream",
     "text": [
      "\n"
     ]
    },
    {
     "name": "stdout",
     "output_type": "stream",
     "text": [
      "\n",
      "      Epoch    GPU_mem   box_loss   cls_loss   dfl_loss  Instances       Size\n"
     ]
    },
    {
     "name": "stderr",
     "output_type": "stream",
     "text": [
      "     68/100      6.18G      0.874     0.6522      1.118         12        640: 100%|██████████| 1286/1286 [04:28<00:00,  4.79it/s]\n",
      "                 Class     Images  Instances      Box(P          R      mAP50  mAP50-95): 100%|██████████| 148/148 [01:06<00:00,  2.22it/s]\n"
     ]
    },
    {
     "name": "stdout",
     "output_type": "stream",
     "text": [
      "                   all       5027      24630      0.798      0.711      0.739      0.487\n",
      "\n",
      "      Epoch    GPU_mem   box_loss   cls_loss   dfl_loss  Instances       Size\n"
     ]
    },
    {
     "name": "stderr",
     "output_type": "stream",
     "text": [
      "     69/100      7.93G     0.8765     0.6448      1.119         13        640: 100%|██████████| 1286/1286 [06:33<00:00,  3.27it/s]\n",
      "                 Class     Images  Instances      Box(P          R      mAP50  mAP50-95): 100%|██████████| 148/148 [03:04<00:00,  1.25s/it]"
     ]
    },
    {
     "name": "stdout",
     "output_type": "stream",
     "text": [
      "                   all       5027      24630      0.798      0.711      0.739      0.487\n"
     ]
    },
    {
     "name": "stderr",
     "output_type": "stream",
     "text": [
      "\n"
     ]
    },
    {
     "name": "stdout",
     "output_type": "stream",
     "text": [
      "\n",
      "      Epoch    GPU_mem   box_loss   cls_loss   dfl_loss  Instances       Size\n"
     ]
    },
    {
     "name": "stderr",
     "output_type": "stream",
     "text": [
      "     70/100      8.51G     0.8812     0.6533      1.116          5        640: 100%|██████████| 1286/1286 [05:13<00:00,  4.10it/s]\n",
      "                 Class     Images  Instances      Box(P          R      mAP50  mAP50-95): 100%|██████████| 148/148 [02:06<00:00,  1.17it/s]\n"
     ]
    },
    {
     "name": "stdout",
     "output_type": "stream",
     "text": [
      "                   all       5027      24630      0.796      0.712      0.739      0.487\n",
      "\u001b[34m\u001b[1mEarlyStopping: \u001b[0mTraining stopped early as no improvement observed in last 35 epochs. Best results observed at epoch 35, best model saved as best.pt.\n",
      "To update EarlyStopping(patience=35) pass a new patience value, i.e. `patience=300` or use `patience=0` to disable EarlyStopping.\n",
      "\n",
      "70 epochs completed in 7.766 hours.\n",
      "Optimizer stripped from runs\\detect\\train2\\weights\\last.pt, 19.1MB\n",
      "Optimizer stripped from runs\\detect\\train2\\weights\\best.pt, 19.1MB\n",
      "\n",
      "Validating runs\\detect\\train2\\weights\\best.pt...\n",
      "Ultralytics 8.3.15  Python-3.12.0 torch-2.4.1+cu124 CUDA:0 (NVIDIA GeForce RTX 4070 Laptop GPU, 8188MiB)\n",
      "YOLO11s summary (fused): 238 layers, 9,414,735 parameters, 0 gradients, 21.3 GFLOPs\n"
     ]
    },
    {
     "name": "stderr",
     "output_type": "stream",
     "text": [
      "                 Class     Images  Instances      Box(P          R      mAP50  mAP50-95): 100%|██████████| 148/148 [00:55<00:00,  2.65it/s]\n"
     ]
    },
    {
     "name": "stdout",
     "output_type": "stream",
     "text": [
      "                   all       5027      24630      0.804      0.692      0.745      0.494\n",
      "                   UAV       2559       2808      0.684      0.837      0.782      0.432\n",
      "                  Bird        464        707      0.876      0.754      0.823       0.62\n",
      "                  Pole        300        381      0.842       0.78      0.813      0.582\n",
      "                  Tree       1702      20734      0.814      0.397      0.561      0.342\n",
      "Speed: 0.2ms preprocess, 7.2ms inference, 0.0ms loss, 0.9ms postprocess per image\n",
      "Results saved to \u001b[1mruns\\detect\\train2\u001b[0m\n"
     ]
    }
   ],
   "source": [
    "def model_train(path_to_ds, model_name = \"yolo11s.pt\", epochs_num = 100, patience_val = 35, img_size = 640, dropout_val = 0.5, cache_flag = False, augment_flag = False):\n",
    "    model = YOLO(model_name)\n",
    "    #Train model\n",
    "    if cache_flag:\n",
    "        result = model.train(data = path_to_ds, epochs = epochs_num, imgsz=img_size, batch = -1, patience = patience_val, dropout = dropout_val, cache = 'disk', augment = augment_flag)\n",
    "    else:\n",
    "        result = model.train(data = path_to_ds, epochs = epochs_num, imgsz=img_size, batch = -1, patience = patience_val, dropout = dropout_val, augment = augment_flag)"
   ]
  },
  {
   "cell_type": "code",
   "execution_count": null,
   "metadata": {},
   "outputs": [],
   "source": []
  }
 ],
 "metadata": {
  "kernelspec": {
   "display_name": "base",
   "language": "python",
   "name": "python3"
  },
  "language_info": {
   "codemirror_mode": {
    "name": "ipython",
    "version": 3
   },
   "file_extension": ".py",
   "mimetype": "text/x-python",
   "name": "python",
   "nbconvert_exporter": "python",
   "pygments_lexer": "ipython3",
   "version": "3.12.4"
  }
 },
 "nbformat": 4,
 "nbformat_minor": 2
}
